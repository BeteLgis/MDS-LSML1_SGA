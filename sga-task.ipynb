{
 "cells": [
  {
   "cell_type": "markdown",
   "metadata": {},
   "source": [
    "# User routes on the site\n",
    "## Description\n",
    "**Clickstream** is a sequence of user actions on a website. It allows you to understand how users interact with the site. In this task, you need to find the most frequent custom routes.\n",
    "\n",
    "## Input data\n",
    "Input data is а table with clickstream data in file `hdfs:/data/clickstream.csv`.\n",
    "\n",
    "### Table structure\n",
    "* `user_id (int)` - Unique user identifier.\n",
    "* `session_id (int)` - Unique identifier for the user session. The user's session lasts until the identifier changes.\n",
    "* `event_type (string)` - Event type from the list:\n",
    "    * **page** - visit to the page\n",
    "    * **event** - any action on the page\n",
    "    * <b>&lt;custom&gt;</b> - string with any other type\n",
    "* `event_type (string)` - Page on the site.\n",
    "* `timestamp (int)` - Unix-timestamp of action.\n",
    "\n",
    "### Browser errors\n",
    "Errors can sometimes occur in the user's browser - after such an error appears, we can no longer trust the data of this session and all the following lines after the error or at the same time with it are considered corrupted and **should not be counted** in statistics.\n",
    "\n",
    "When an error occurs on the page, a random string containing the word **error** will be written to the `event_type` field.\n",
    "\n",
    "### Sample of user session\n",
    "<pre>\n",
    "+-------+----------+------------+----------+----------+\n",
    "|user_id|session_id|  event_type|event_page| timestamp|\n",
    "+-------+----------+------------+----------+----------+\n",
    "|    562|       507|        page|      main|1620494781|\n",
    "|    562|       507|       event|      main|1620494788|\n",
    "|    562|       507|       event|      main|1620494798|\n",
    "|    562|       507|        page|    family|1620494820|\n",
    "|    562|       507|       event|    family|1620494828|\n",
    "|    562|       507|        page|      main|1620494848|\n",
    "|    562|       507|wNaxLlerrorU|      main|1620494865|\n",
    "|    562|       507|       event|      main|1620494873|\n",
    "|    562|       507|        page|      news|1620494875|\n",
    "|    562|       507|        page|   tariffs|1620494876|\n",
    "|    562|       507|       event|   tariffs|1620494884|\n",
    "|    562|       514|        page|      main|1620728918|\n",
    "|    562|       514|       event|      main|1620729174|\n",
    "|    562|       514|        page|   archive|1620729674|\n",
    "|    562|       514|        page|     bonus|1620729797|\n",
    "|    562|       514|        page|   tariffs|1620731090|\n",
    "|    562|       514|       event|   tariffs|1620731187|\n",
    "+-------+----------+------------+----------+----------+\n",
    "</pre>\n",
    "\n",
    "#### Correct user routes for a given user:\n",
    "* **Session 507**: main-family-main\n",
    "* **Session 514**: main-archive-bonus-tariffs\n",
    "\n",
    "Route elements are ordered by the time they appear in the clickstream, from earliest to latest.\n",
    "\n",
    "The route must be accounted for completely before the end of the session or an error in the session.\n",
    "\n",
    "## Task\n",
    "You need to use the Spark SQL, Spark RDD and Spark DF interfaces to create a solution file, the lines of which contain **the 30 most frequent user routes** on the site.\n",
    "\n",
    "Each line of the file should contain the `route` and `count` values **separated by tabs**, where:\n",
    "* `route` - route on the site, consisting of pages separated by \"-\".\n",
    "* `count` - the number of user sessions in which this route was.\n",
    "\n",
    "The lines must be **ordered in descending order** of the `count` field.\n",
    "\n",
    "## Criteria\n",
    "You can get maximum of 3.5 points (final grade) for this assignment, depedning on the number of interface you manage to leverage. The criteria are as follows:\n",
    "\n",
    "* 0.5 points – Spark SQL solution with 1 query\n",
    "* 0.5 points – Spark SQL solution with <=2 queries\n",
    "* 0.5 points – Spark RDD solution\n",
    "* 0.5 points – Spark DF solution\n",
    "* 0.5 points – your solution algorithm is relatively optimized, i.e.: no O^2 or O^3 complexities; appropriate object usage; no data leaks etc. This is evaluated by staff.\n",
    "* 1 point – 1 on 1 screening session. During this session staff member can ask you questions regarding your solution logic, framework usage, questionable parts of your code etc. If your code is clean enough, the staff member can just ask you to solve a theoretical problem connected to Spark.\n"
   ]
  },
  {
   "cell_type": "code",
   "execution_count": 1,
   "metadata": {
    "tags": []
   },
   "outputs": [],
   "source": [
    "import pandas as pd\n",
    "import numpy as np"
   ]
  },
  {
   "cell_type": "code",
   "execution_count": 2,
   "metadata": {
    "tags": []
   },
   "outputs": [],
   "source": [
    "df = pd.read_csv('clickstream.csv', sep='\\t')"
   ]
  },
  {
   "cell_type": "code",
   "execution_count": 3,
   "metadata": {
    "tags": []
   },
   "outputs": [
    {
     "data": {
      "text/plain": [
       "0"
      ]
     },
     "execution_count": 3,
     "metadata": {},
     "output_type": "execute_result"
    }
   ],
   "source": [
    "# Making sure clickstream is indeed sorted by timestamp\n",
    "(np.abs(df['timestamp'] - df['timestamp'].sort_values())).sum()"
   ]
  },
  {
   "cell_type": "code",
   "execution_count": 4,
   "metadata": {},
   "outputs": [
    {
     "name": "stderr",
     "output_type": "stream",
     "text": [
      "Setting default log level to \"WARN\".\n",
      "To adjust logging level use sc.setLogLevel(newLevel). For SparkR, use setLogLevel(newLevel).\n",
      "2024-03-04 18:40:18,096 WARN yarn.Client: Neither spark.yarn.jars nor spark.yarn.archive is set, falling back to uploading libraries under SPARK_HOME.\n"
     ]
    }
   ],
   "source": [
    "import findspark\n",
    "findspark.init()\n",
    "\n",
    "import pyspark\n",
    "sc = pyspark.SparkContext(appName='jupyter')\n",
    "\n",
    "from pyspark.sql import SparkSession, functions as F, Window\n",
    "se = SparkSession(sc)"
   ]
  },
  {
   "cell_type": "code",
   "execution_count": 5,
   "metadata": {
    "tags": []
   },
   "outputs": [
    {
     "name": "stderr",
     "output_type": "stream",
     "text": [
      "                                                                                \r"
     ]
    },
    {
     "data": {
      "text/html": [
       "<div>\n",
       "<style scoped>\n",
       "    .dataframe tbody tr th:only-of-type {\n",
       "        vertical-align: middle;\n",
       "    }\n",
       "\n",
       "    .dataframe tbody tr th {\n",
       "        vertical-align: top;\n",
       "    }\n",
       "\n",
       "    .dataframe thead th {\n",
       "        text-align: right;\n",
       "    }\n",
       "</style>\n",
       "<table border=\"1\" class=\"dataframe\">\n",
       "  <thead>\n",
       "    <tr style=\"text-align: right;\">\n",
       "      <th></th>\n",
       "      <th>user_id</th>\n",
       "      <th>session_id</th>\n",
       "      <th>event_type</th>\n",
       "      <th>event_page</th>\n",
       "      <th>timestamp</th>\n",
       "    </tr>\n",
       "  </thead>\n",
       "  <tbody>\n",
       "    <tr>\n",
       "      <th>0</th>\n",
       "      <td>562</td>\n",
       "      <td>507</td>\n",
       "      <td>page</td>\n",
       "      <td>main</td>\n",
       "      <td>1695584127</td>\n",
       "    </tr>\n",
       "    <tr>\n",
       "      <th>1</th>\n",
       "      <td>562</td>\n",
       "      <td>507</td>\n",
       "      <td>event</td>\n",
       "      <td>main</td>\n",
       "      <td>1695584134</td>\n",
       "    </tr>\n",
       "    <tr>\n",
       "      <th>2</th>\n",
       "      <td>562</td>\n",
       "      <td>507</td>\n",
       "      <td>event</td>\n",
       "      <td>main</td>\n",
       "      <td>1695584144</td>\n",
       "    </tr>\n",
       "    <tr>\n",
       "      <th>3</th>\n",
       "      <td>562</td>\n",
       "      <td>507</td>\n",
       "      <td>event</td>\n",
       "      <td>main</td>\n",
       "      <td>1695584147</td>\n",
       "    </tr>\n",
       "    <tr>\n",
       "      <th>4</th>\n",
       "      <td>562</td>\n",
       "      <td>507</td>\n",
       "      <td>wNaxLlerrorU</td>\n",
       "      <td>main</td>\n",
       "      <td>1695584154</td>\n",
       "    </tr>\n",
       "  </tbody>\n",
       "</table>\n",
       "</div>"
      ],
      "text/plain": [
       "  user_id session_id    event_type event_page   timestamp\n",
       "0     562        507          page       main  1695584127\n",
       "1     562        507         event       main  1695584134\n",
       "2     562        507         event       main  1695584144\n",
       "3     562        507         event       main  1695584147\n",
       "4     562        507  wNaxLlerrorU       main  1695584154"
      ]
     },
     "execution_count": 5,
     "metadata": {},
     "output_type": "execute_result"
    }
   ],
   "source": [
    "clicks = se.read.csv('hdfs:/data/clickstream.csv', sep='\\t', header=True)\n",
    "clicks.createOrReplaceTempView('clicks')\n",
    "clicks.limit(5).toPandas()"
   ]
  },
  {
   "cell_type": "code",
   "execution_count": 6,
   "metadata": {
    "tags": []
   },
   "outputs": [],
   "source": [
    "def save_csv(data, path, limit=30, sep='\\t',\n",
    "             show=True, display=30, **kwargs):\n",
    "    display = min(limit, display)\n",
    "\n",
    "    data = [(x[0], x[1]) for x in data.take(limit)]\n",
    "\n",
    "    df = pd.DataFrame(data, columns=['route', 'count'])\n",
    "    df.to_csv(path, sep=sep, index=False, **kwargs)\n",
    "    if show:\n",
    "        return df.head(display)\n",
    "\n",
    "def compare_csv(file1, file2, sep='\\t', **kwargs):\n",
    "    df1 = pd.read_csv(file1, sep=sep, **kwargs).reset_index(drop=True)\n",
    "    df2 = pd.read_csv(file2, sep=sep, **kwargs).reset_index(drop=True)\n",
    "    \n",
    "    if df1.shape[0] != df2.shape[0]:\n",
    "        print('Number of rows are different!')\n",
    "        return False\n",
    "    \n",
    "    diff = df1.compare(df2, result_names=(\"left\", \"right\"))\n",
    "    if diff.empty:\n",
    "        print('Dataframes match!')\n",
    "        return True, None\n",
    "    return False, diff"
   ]
  },
  {
   "cell_type": "markdown",
   "metadata": {},
   "source": [
    "## SQL"
   ]
  },
  {
   "cell_type": "code",
   "execution_count": 7,
   "metadata": {
    "tags": []
   },
   "outputs": [],
   "source": [
    "def sql_join(table, order_by='timestamp'):\n",
    "    return '''WITH min_errors AS (\n",
    "                SELECT user_id AS uid, session_id AS sid, MIN(INT(timestamp)) AS min_timestamp\n",
    "                FROM {table}\n",
    "                WHERE INSTR(event_type, 'error') > 0\n",
    "                GROUP BY user_id, session_id\n",
    "            ), no_errors AS (\n",
    "                SELECT user_id, session_id, event_page, {order_by},\n",
    "                       lag(event_page, 1) OVER (PARTITION BY user_id, session_id ORDER BY {order_by}) AS prev_page\n",
    "                FROM {table}\n",
    "                LEFT JOIN min_errors ON user_id = uid AND session_id = sid\n",
    "                WHERE min_timestamp IS NULL OR INT(timestamp) < INT(min_timestamp)\n",
    "            ), clean AS (\n",
    "                SELECT user_id, session_id, event_page, {order_by}\n",
    "                FROM no_errors\n",
    "                WHERE prev_page IS NULL OR event_page != prev_page\n",
    "            ), routes AS (\n",
    "                SELECT user_id, session_id, MAX(route) AS route\n",
    "                FROM (SELECT user_id, session_id,\n",
    "                             COLLECT_LIST(event_page) OVER (PARTITION BY user_id, session_id ORDER BY {order_by}) AS route\n",
    "                      FROM clean) AS temp\n",
    "                GROUP BY user_id, session_id\n",
    "            )\n",
    "\n",
    "            SELECT CONCAT_WS('-', route) as route, COUNT(route) as count\n",
    "            FROM routes\n",
    "            GROUP BY route\n",
    "            ORDER BY count DESC, route DESC'''.format(table=table, order_by=order_by)\n",
    "\n",
    "sql_routes = se.sql(sql_join('clicks')) # LIMIT 30 is omitted intentionally"
   ]
  },
  {
   "cell_type": "code",
   "execution_count": 8,
   "metadata": {},
   "outputs": [
    {
     "name": "stderr",
     "output_type": "stream",
     "text": [
      "                                                                                \r"
     ]
    },
    {
     "data": {
      "text/html": [
       "<div>\n",
       "<style scoped>\n",
       "    .dataframe tbody tr th:only-of-type {\n",
       "        vertical-align: middle;\n",
       "    }\n",
       "\n",
       "    .dataframe tbody tr th {\n",
       "        vertical-align: top;\n",
       "    }\n",
       "\n",
       "    .dataframe thead th {\n",
       "        text-align: right;\n",
       "    }\n",
       "</style>\n",
       "<table border=\"1\" class=\"dataframe\">\n",
       "  <thead>\n",
       "    <tr style=\"text-align: right;\">\n",
       "      <th></th>\n",
       "      <th>route</th>\n",
       "      <th>count</th>\n",
       "    </tr>\n",
       "  </thead>\n",
       "  <tbody>\n",
       "    <tr>\n",
       "      <th>0</th>\n",
       "      <td>main</td>\n",
       "      <td>8184</td>\n",
       "    </tr>\n",
       "    <tr>\n",
       "      <th>1</th>\n",
       "      <td>main-archive</td>\n",
       "      <td>1113</td>\n",
       "    </tr>\n",
       "    <tr>\n",
       "      <th>2</th>\n",
       "      <td>main-rabota</td>\n",
       "      <td>1047</td>\n",
       "    </tr>\n",
       "    <tr>\n",
       "      <th>3</th>\n",
       "      <td>main-internet</td>\n",
       "      <td>897</td>\n",
       "    </tr>\n",
       "    <tr>\n",
       "      <th>4</th>\n",
       "      <td>main-bonus</td>\n",
       "      <td>870</td>\n",
       "    </tr>\n",
       "    <tr>\n",
       "      <th>5</th>\n",
       "      <td>main-news</td>\n",
       "      <td>769</td>\n",
       "    </tr>\n",
       "    <tr>\n",
       "      <th>6</th>\n",
       "      <td>main-tariffs</td>\n",
       "      <td>677</td>\n",
       "    </tr>\n",
       "    <tr>\n",
       "      <th>7</th>\n",
       "      <td>main-online</td>\n",
       "      <td>587</td>\n",
       "    </tr>\n",
       "    <tr>\n",
       "      <th>8</th>\n",
       "      <td>main-vklad</td>\n",
       "      <td>518</td>\n",
       "    </tr>\n",
       "    <tr>\n",
       "      <th>9</th>\n",
       "      <td>main-rabota-archive</td>\n",
       "      <td>170</td>\n",
       "    </tr>\n",
       "    <tr>\n",
       "      <th>10</th>\n",
       "      <td>main-archive-rabota</td>\n",
       "      <td>167</td>\n",
       "    </tr>\n",
       "    <tr>\n",
       "      <th>11</th>\n",
       "      <td>main-bonus-archive</td>\n",
       "      <td>143</td>\n",
       "    </tr>\n",
       "    <tr>\n",
       "      <th>12</th>\n",
       "      <td>main-rabota-bonus</td>\n",
       "      <td>139</td>\n",
       "    </tr>\n",
       "    <tr>\n",
       "      <th>13</th>\n",
       "      <td>main-news-rabota</td>\n",
       "      <td>135</td>\n",
       "    </tr>\n",
       "    <tr>\n",
       "      <th>14</th>\n",
       "      <td>main-bonus-rabota</td>\n",
       "      <td>135</td>\n",
       "    </tr>\n",
       "    <tr>\n",
       "      <th>15</th>\n",
       "      <td>main-archive-internet</td>\n",
       "      <td>132</td>\n",
       "    </tr>\n",
       "    <tr>\n",
       "      <th>16</th>\n",
       "      <td>main-rabota-news</td>\n",
       "      <td>130</td>\n",
       "    </tr>\n",
       "    <tr>\n",
       "      <th>17</th>\n",
       "      <td>main-internet-rabota</td>\n",
       "      <td>129</td>\n",
       "    </tr>\n",
       "    <tr>\n",
       "      <th>18</th>\n",
       "      <td>main-archive-news</td>\n",
       "      <td>126</td>\n",
       "    </tr>\n",
       "    <tr>\n",
       "      <th>19</th>\n",
       "      <td>main-rabota-internet</td>\n",
       "      <td>124</td>\n",
       "    </tr>\n",
       "    <tr>\n",
       "      <th>20</th>\n",
       "      <td>main-internet-archive</td>\n",
       "      <td>123</td>\n",
       "    </tr>\n",
       "    <tr>\n",
       "      <th>21</th>\n",
       "      <td>main-archive-bonus</td>\n",
       "      <td>117</td>\n",
       "    </tr>\n",
       "    <tr>\n",
       "      <th>22</th>\n",
       "      <td>main-internet-bonus</td>\n",
       "      <td>115</td>\n",
       "    </tr>\n",
       "    <tr>\n",
       "      <th>23</th>\n",
       "      <td>main-tariffs-internet</td>\n",
       "      <td>114</td>\n",
       "    </tr>\n",
       "    <tr>\n",
       "      <th>24</th>\n",
       "      <td>main-news-archive</td>\n",
       "      <td>113</td>\n",
       "    </tr>\n",
       "    <tr>\n",
       "      <th>25</th>\n",
       "      <td>main-news-internet</td>\n",
       "      <td>109</td>\n",
       "    </tr>\n",
       "    <tr>\n",
       "      <th>26</th>\n",
       "      <td>main-archive-tariffs</td>\n",
       "      <td>104</td>\n",
       "    </tr>\n",
       "    <tr>\n",
       "      <th>27</th>\n",
       "      <td>main-tariffs-archive</td>\n",
       "      <td>103</td>\n",
       "    </tr>\n",
       "    <tr>\n",
       "      <th>28</th>\n",
       "      <td>main-internet-news</td>\n",
       "      <td>103</td>\n",
       "    </tr>\n",
       "    <tr>\n",
       "      <th>29</th>\n",
       "      <td>main-rabota-main</td>\n",
       "      <td>94</td>\n",
       "    </tr>\n",
       "  </tbody>\n",
       "</table>\n",
       "</div>"
      ],
      "text/plain": [
       "                    route  count\n",
       "0                    main   8184\n",
       "1            main-archive   1113\n",
       "2             main-rabota   1047\n",
       "3           main-internet    897\n",
       "4              main-bonus    870\n",
       "5               main-news    769\n",
       "6            main-tariffs    677\n",
       "7             main-online    587\n",
       "8              main-vklad    518\n",
       "9     main-rabota-archive    170\n",
       "10    main-archive-rabota    167\n",
       "11     main-bonus-archive    143\n",
       "12      main-rabota-bonus    139\n",
       "13       main-news-rabota    135\n",
       "14      main-bonus-rabota    135\n",
       "15  main-archive-internet    132\n",
       "16       main-rabota-news    130\n",
       "17   main-internet-rabota    129\n",
       "18      main-archive-news    126\n",
       "19   main-rabota-internet    124\n",
       "20  main-internet-archive    123\n",
       "21     main-archive-bonus    117\n",
       "22    main-internet-bonus    115\n",
       "23  main-tariffs-internet    114\n",
       "24      main-news-archive    113\n",
       "25     main-news-internet    109\n",
       "26   main-archive-tariffs    104\n",
       "27   main-tariffs-archive    103\n",
       "28     main-internet-news    103\n",
       "29       main-rabota-main     94"
      ]
     },
     "execution_count": 8,
     "metadata": {},
     "output_type": "execute_result"
    }
   ],
   "source": [
    "save_csv(sql_routes, 'sql.csv')"
   ]
  },
  {
   "cell_type": "markdown",
   "metadata": {},
   "source": [
    "## RDD"
   ]
  },
  {
   "cell_type": "code",
   "execution_count": 9,
   "metadata": {
    "tags": []
   },
   "outputs": [
    {
     "name": "stderr",
     "output_type": "stream",
     "text": [
      "                                                                                \r"
     ]
    }
   ],
   "source": [
    "rdd_min_errors = (clicks\n",
    "                  .rdd\n",
    "                  .filter(lambda x: 'error' in x.event_type)\n",
    "                  .map(lambda x: ((x.user_id, x.session_id), int(x.timestamp)))\n",
    "                  .reduceByKey(lambda v1, v2: min(v1, v2)))\n",
    "\n",
    "rdd_no_errors = (clicks\n",
    "                 .rdd\n",
    "                 .map(lambda x: ((x.user_id, x.session_id), x))\n",
    "                 .leftOuterJoin(rdd_min_errors)\n",
    "                 .filter(lambda x: x[1][1] is None or int(x[1][0].timestamp) < x[1][1])\n",
    "                 .map(lambda x: (x[0], x[1][0])))\n",
    "\n",
    "def clean(vals):\n",
    "    res = []\n",
    "    for val in sorted(vals, key=lambda x: int(x.timestamp)):\n",
    "        if len(res) == 0 or res[-1] != val.event_page:\n",
    "            res.append(val.event_page)\n",
    "    return '-'.join(res)\n",
    "\n",
    "rdd_clean = (rdd_no_errors\n",
    "             .groupByKey()\n",
    "             .mapValues(lambda vals: clean(vals)))\n",
    "\n",
    "rdd_routes = (rdd_clean\n",
    "              .map(lambda x: (x[1], 1))\n",
    "              .reduceByKey(lambda x, y: x + y)\n",
    "              .sortBy(lambda x: (x[1], x[0]), ascending=False))"
   ]
  },
  {
   "cell_type": "code",
   "execution_count": 10,
   "metadata": {
    "tags": []
   },
   "outputs": [
    {
     "name": "stderr",
     "output_type": "stream",
     "text": [
      "                                                                                \r"
     ]
    },
    {
     "data": {
      "text/html": [
       "<div>\n",
       "<style scoped>\n",
       "    .dataframe tbody tr th:only-of-type {\n",
       "        vertical-align: middle;\n",
       "    }\n",
       "\n",
       "    .dataframe tbody tr th {\n",
       "        vertical-align: top;\n",
       "    }\n",
       "\n",
       "    .dataframe thead th {\n",
       "        text-align: right;\n",
       "    }\n",
       "</style>\n",
       "<table border=\"1\" class=\"dataframe\">\n",
       "  <thead>\n",
       "    <tr style=\"text-align: right;\">\n",
       "      <th></th>\n",
       "      <th>route</th>\n",
       "      <th>count</th>\n",
       "    </tr>\n",
       "  </thead>\n",
       "  <tbody>\n",
       "    <tr>\n",
       "      <th>0</th>\n",
       "      <td>main</td>\n",
       "      <td>8184</td>\n",
       "    </tr>\n",
       "    <tr>\n",
       "      <th>1</th>\n",
       "      <td>main-archive</td>\n",
       "      <td>1113</td>\n",
       "    </tr>\n",
       "    <tr>\n",
       "      <th>2</th>\n",
       "      <td>main-rabota</td>\n",
       "      <td>1047</td>\n",
       "    </tr>\n",
       "    <tr>\n",
       "      <th>3</th>\n",
       "      <td>main-internet</td>\n",
       "      <td>897</td>\n",
       "    </tr>\n",
       "    <tr>\n",
       "      <th>4</th>\n",
       "      <td>main-bonus</td>\n",
       "      <td>870</td>\n",
       "    </tr>\n",
       "    <tr>\n",
       "      <th>5</th>\n",
       "      <td>main-news</td>\n",
       "      <td>769</td>\n",
       "    </tr>\n",
       "    <tr>\n",
       "      <th>6</th>\n",
       "      <td>main-tariffs</td>\n",
       "      <td>677</td>\n",
       "    </tr>\n",
       "    <tr>\n",
       "      <th>7</th>\n",
       "      <td>main-online</td>\n",
       "      <td>587</td>\n",
       "    </tr>\n",
       "    <tr>\n",
       "      <th>8</th>\n",
       "      <td>main-vklad</td>\n",
       "      <td>518</td>\n",
       "    </tr>\n",
       "    <tr>\n",
       "      <th>9</th>\n",
       "      <td>main-rabota-archive</td>\n",
       "      <td>170</td>\n",
       "    </tr>\n",
       "    <tr>\n",
       "      <th>10</th>\n",
       "      <td>main-archive-rabota</td>\n",
       "      <td>167</td>\n",
       "    </tr>\n",
       "    <tr>\n",
       "      <th>11</th>\n",
       "      <td>main-bonus-archive</td>\n",
       "      <td>143</td>\n",
       "    </tr>\n",
       "    <tr>\n",
       "      <th>12</th>\n",
       "      <td>main-rabota-bonus</td>\n",
       "      <td>139</td>\n",
       "    </tr>\n",
       "    <tr>\n",
       "      <th>13</th>\n",
       "      <td>main-news-rabota</td>\n",
       "      <td>135</td>\n",
       "    </tr>\n",
       "    <tr>\n",
       "      <th>14</th>\n",
       "      <td>main-bonus-rabota</td>\n",
       "      <td>135</td>\n",
       "    </tr>\n",
       "    <tr>\n",
       "      <th>15</th>\n",
       "      <td>main-archive-internet</td>\n",
       "      <td>132</td>\n",
       "    </tr>\n",
       "    <tr>\n",
       "      <th>16</th>\n",
       "      <td>main-rabota-news</td>\n",
       "      <td>130</td>\n",
       "    </tr>\n",
       "    <tr>\n",
       "      <th>17</th>\n",
       "      <td>main-internet-rabota</td>\n",
       "      <td>129</td>\n",
       "    </tr>\n",
       "    <tr>\n",
       "      <th>18</th>\n",
       "      <td>main-archive-news</td>\n",
       "      <td>126</td>\n",
       "    </tr>\n",
       "    <tr>\n",
       "      <th>19</th>\n",
       "      <td>main-rabota-internet</td>\n",
       "      <td>124</td>\n",
       "    </tr>\n",
       "    <tr>\n",
       "      <th>20</th>\n",
       "      <td>main-internet-archive</td>\n",
       "      <td>123</td>\n",
       "    </tr>\n",
       "    <tr>\n",
       "      <th>21</th>\n",
       "      <td>main-archive-bonus</td>\n",
       "      <td>117</td>\n",
       "    </tr>\n",
       "    <tr>\n",
       "      <th>22</th>\n",
       "      <td>main-internet-bonus</td>\n",
       "      <td>115</td>\n",
       "    </tr>\n",
       "    <tr>\n",
       "      <th>23</th>\n",
       "      <td>main-tariffs-internet</td>\n",
       "      <td>114</td>\n",
       "    </tr>\n",
       "    <tr>\n",
       "      <th>24</th>\n",
       "      <td>main-news-archive</td>\n",
       "      <td>113</td>\n",
       "    </tr>\n",
       "    <tr>\n",
       "      <th>25</th>\n",
       "      <td>main-news-internet</td>\n",
       "      <td>109</td>\n",
       "    </tr>\n",
       "    <tr>\n",
       "      <th>26</th>\n",
       "      <td>main-archive-tariffs</td>\n",
       "      <td>104</td>\n",
       "    </tr>\n",
       "    <tr>\n",
       "      <th>27</th>\n",
       "      <td>main-tariffs-archive</td>\n",
       "      <td>103</td>\n",
       "    </tr>\n",
       "    <tr>\n",
       "      <th>28</th>\n",
       "      <td>main-internet-news</td>\n",
       "      <td>103</td>\n",
       "    </tr>\n",
       "    <tr>\n",
       "      <th>29</th>\n",
       "      <td>main-rabota-main</td>\n",
       "      <td>94</td>\n",
       "    </tr>\n",
       "  </tbody>\n",
       "</table>\n",
       "</div>"
      ],
      "text/plain": [
       "                    route  count\n",
       "0                    main   8184\n",
       "1            main-archive   1113\n",
       "2             main-rabota   1047\n",
       "3           main-internet    897\n",
       "4              main-bonus    870\n",
       "5               main-news    769\n",
       "6            main-tariffs    677\n",
       "7             main-online    587\n",
       "8              main-vklad    518\n",
       "9     main-rabota-archive    170\n",
       "10    main-archive-rabota    167\n",
       "11     main-bonus-archive    143\n",
       "12      main-rabota-bonus    139\n",
       "13       main-news-rabota    135\n",
       "14      main-bonus-rabota    135\n",
       "15  main-archive-internet    132\n",
       "16       main-rabota-news    130\n",
       "17   main-internet-rabota    129\n",
       "18      main-archive-news    126\n",
       "19   main-rabota-internet    124\n",
       "20  main-internet-archive    123\n",
       "21     main-archive-bonus    117\n",
       "22    main-internet-bonus    115\n",
       "23  main-tariffs-internet    114\n",
       "24      main-news-archive    113\n",
       "25     main-news-internet    109\n",
       "26   main-archive-tariffs    104\n",
       "27   main-tariffs-archive    103\n",
       "28     main-internet-news    103\n",
       "29       main-rabota-main     94"
      ]
     },
     "execution_count": 10,
     "metadata": {},
     "output_type": "execute_result"
    }
   ],
   "source": [
    "save_csv(rdd_routes, 'rdd.csv')"
   ]
  },
  {
   "cell_type": "code",
   "execution_count": 11,
   "metadata": {},
   "outputs": [
    {
     "name": "stdout",
     "output_type": "stream",
     "text": [
      "Dataframes match!\n"
     ]
    }
   ],
   "source": [
    "assert compare_csv('rdd.csv', 'sql.csv')[0]"
   ]
  },
  {
   "cell_type": "markdown",
   "metadata": {},
   "source": [
    "## DF"
   ]
  },
  {
   "cell_type": "code",
   "execution_count": 12,
   "metadata": {
    "tags": []
   },
   "outputs": [
    {
     "data": {
      "text/plain": [
       "DataFrame[user_id: int, session_id: int, event_type: string, event_page: string, timestamp: int]"
      ]
     },
     "execution_count": 12,
     "metadata": {},
     "output_type": "execute_result"
    }
   ],
   "source": [
    "# I intentionally didn't cast values before to make use of casts embedded into sql and rdd solutions\n",
    "clicks = clicks.withColumn('user_id', F.col('user_id').cast('int'))\n",
    "clicks = clicks.withColumn('session_id', F.col('session_id').cast('int'))\n",
    "clicks = clicks.withColumn('timestamp', F.col('timestamp').cast('int'))\n",
    "clicks"
   ]
  },
  {
   "cell_type": "code",
   "execution_count": 13,
   "metadata": {
    "tags": []
   },
   "outputs": [],
   "source": [
    "df_min_errors = (clicks\n",
    "                 .where(F.col('event_type').contains('error'))\n",
    "                 .groupBy(['user_id', 'session_id'])\n",
    "                 .agg(F.min('timestamp').alias('min_timestamp'))\n",
    "                 .select(['user_id', 'session_id', 'min_timestamp']))\n",
    "\n",
    "df_no_errors = (clicks\n",
    "                .join(df_min_errors, ['user_id', 'session_id'], 'left')\n",
    "                .where(F.col('min_timestamp').isNull() | (F.col('timestamp') < F.col('min_timestamp')))\n",
    "                .withColumn('prev_page', F.lag('event_page', 1).over(Window.partitionBy(['user_id', 'session_id']).orderBy('timestamp')))\n",
    "                .select(['user_id', 'session_id', 'event_page', 'timestamp', 'prev_page']))\n",
    "\n",
    "df_clean = (df_no_errors\n",
    "            .where(F.col('prev_page').isNull() | (F.col('event_page') != F.col('prev_page')))\n",
    "            .withColumn('route', F.collect_list('event_page').over(Window.partitionBy(['user_id', 'session_id']).orderBy('timestamp')))\n",
    "            .select(['user_id', 'session_id', 'route']))\n",
    "\n",
    "df_routes = (df_clean\n",
    "             .groupBy(['user_id', 'session_id'])\n",
    "             .agg(F.max('route').alias('route'))\n",
    "             .groupBy('route')\n",
    "             .agg(F.count('route').alias('count'))\n",
    "             .orderBy(['count', 'route'], ascending=False)\n",
    "             .withColumn('route', F.concat_ws('-', 'route')))"
   ]
  },
  {
   "cell_type": "code",
   "execution_count": 14,
   "metadata": {
    "tags": []
   },
   "outputs": [
    {
     "name": "stderr",
     "output_type": "stream",
     "text": [
      "                                                                                \r"
     ]
    },
    {
     "data": {
      "text/html": [
       "<div>\n",
       "<style scoped>\n",
       "    .dataframe tbody tr th:only-of-type {\n",
       "        vertical-align: middle;\n",
       "    }\n",
       "\n",
       "    .dataframe tbody tr th {\n",
       "        vertical-align: top;\n",
       "    }\n",
       "\n",
       "    .dataframe thead th {\n",
       "        text-align: right;\n",
       "    }\n",
       "</style>\n",
       "<table border=\"1\" class=\"dataframe\">\n",
       "  <thead>\n",
       "    <tr style=\"text-align: right;\">\n",
       "      <th></th>\n",
       "      <th>route</th>\n",
       "      <th>count</th>\n",
       "    </tr>\n",
       "  </thead>\n",
       "  <tbody>\n",
       "    <tr>\n",
       "      <th>0</th>\n",
       "      <td>main</td>\n",
       "      <td>8184</td>\n",
       "    </tr>\n",
       "    <tr>\n",
       "      <th>1</th>\n",
       "      <td>main-archive</td>\n",
       "      <td>1113</td>\n",
       "    </tr>\n",
       "    <tr>\n",
       "      <th>2</th>\n",
       "      <td>main-rabota</td>\n",
       "      <td>1047</td>\n",
       "    </tr>\n",
       "    <tr>\n",
       "      <th>3</th>\n",
       "      <td>main-internet</td>\n",
       "      <td>897</td>\n",
       "    </tr>\n",
       "    <tr>\n",
       "      <th>4</th>\n",
       "      <td>main-bonus</td>\n",
       "      <td>870</td>\n",
       "    </tr>\n",
       "    <tr>\n",
       "      <th>5</th>\n",
       "      <td>main-news</td>\n",
       "      <td>769</td>\n",
       "    </tr>\n",
       "    <tr>\n",
       "      <th>6</th>\n",
       "      <td>main-tariffs</td>\n",
       "      <td>677</td>\n",
       "    </tr>\n",
       "    <tr>\n",
       "      <th>7</th>\n",
       "      <td>main-online</td>\n",
       "      <td>587</td>\n",
       "    </tr>\n",
       "    <tr>\n",
       "      <th>8</th>\n",
       "      <td>main-vklad</td>\n",
       "      <td>518</td>\n",
       "    </tr>\n",
       "    <tr>\n",
       "      <th>9</th>\n",
       "      <td>main-rabota-archive</td>\n",
       "      <td>170</td>\n",
       "    </tr>\n",
       "    <tr>\n",
       "      <th>10</th>\n",
       "      <td>main-archive-rabota</td>\n",
       "      <td>167</td>\n",
       "    </tr>\n",
       "    <tr>\n",
       "      <th>11</th>\n",
       "      <td>main-bonus-archive</td>\n",
       "      <td>143</td>\n",
       "    </tr>\n",
       "    <tr>\n",
       "      <th>12</th>\n",
       "      <td>main-rabota-bonus</td>\n",
       "      <td>139</td>\n",
       "    </tr>\n",
       "    <tr>\n",
       "      <th>13</th>\n",
       "      <td>main-news-rabota</td>\n",
       "      <td>135</td>\n",
       "    </tr>\n",
       "    <tr>\n",
       "      <th>14</th>\n",
       "      <td>main-bonus-rabota</td>\n",
       "      <td>135</td>\n",
       "    </tr>\n",
       "    <tr>\n",
       "      <th>15</th>\n",
       "      <td>main-archive-internet</td>\n",
       "      <td>132</td>\n",
       "    </tr>\n",
       "    <tr>\n",
       "      <th>16</th>\n",
       "      <td>main-rabota-news</td>\n",
       "      <td>130</td>\n",
       "    </tr>\n",
       "    <tr>\n",
       "      <th>17</th>\n",
       "      <td>main-internet-rabota</td>\n",
       "      <td>129</td>\n",
       "    </tr>\n",
       "    <tr>\n",
       "      <th>18</th>\n",
       "      <td>main-archive-news</td>\n",
       "      <td>126</td>\n",
       "    </tr>\n",
       "    <tr>\n",
       "      <th>19</th>\n",
       "      <td>main-rabota-internet</td>\n",
       "      <td>124</td>\n",
       "    </tr>\n",
       "    <tr>\n",
       "      <th>20</th>\n",
       "      <td>main-internet-archive</td>\n",
       "      <td>123</td>\n",
       "    </tr>\n",
       "    <tr>\n",
       "      <th>21</th>\n",
       "      <td>main-archive-bonus</td>\n",
       "      <td>117</td>\n",
       "    </tr>\n",
       "    <tr>\n",
       "      <th>22</th>\n",
       "      <td>main-internet-bonus</td>\n",
       "      <td>115</td>\n",
       "    </tr>\n",
       "    <tr>\n",
       "      <th>23</th>\n",
       "      <td>main-tariffs-internet</td>\n",
       "      <td>114</td>\n",
       "    </tr>\n",
       "    <tr>\n",
       "      <th>24</th>\n",
       "      <td>main-news-archive</td>\n",
       "      <td>113</td>\n",
       "    </tr>\n",
       "    <tr>\n",
       "      <th>25</th>\n",
       "      <td>main-news-internet</td>\n",
       "      <td>109</td>\n",
       "    </tr>\n",
       "    <tr>\n",
       "      <th>26</th>\n",
       "      <td>main-archive-tariffs</td>\n",
       "      <td>104</td>\n",
       "    </tr>\n",
       "    <tr>\n",
       "      <th>27</th>\n",
       "      <td>main-tariffs-archive</td>\n",
       "      <td>103</td>\n",
       "    </tr>\n",
       "    <tr>\n",
       "      <th>28</th>\n",
       "      <td>main-internet-news</td>\n",
       "      <td>103</td>\n",
       "    </tr>\n",
       "    <tr>\n",
       "      <th>29</th>\n",
       "      <td>main-rabota-main</td>\n",
       "      <td>94</td>\n",
       "    </tr>\n",
       "  </tbody>\n",
       "</table>\n",
       "</div>"
      ],
      "text/plain": [
       "                    route  count\n",
       "0                    main   8184\n",
       "1            main-archive   1113\n",
       "2             main-rabota   1047\n",
       "3           main-internet    897\n",
       "4              main-bonus    870\n",
       "5               main-news    769\n",
       "6            main-tariffs    677\n",
       "7             main-online    587\n",
       "8              main-vklad    518\n",
       "9     main-rabota-archive    170\n",
       "10    main-archive-rabota    167\n",
       "11     main-bonus-archive    143\n",
       "12      main-rabota-bonus    139\n",
       "13       main-news-rabota    135\n",
       "14      main-bonus-rabota    135\n",
       "15  main-archive-internet    132\n",
       "16       main-rabota-news    130\n",
       "17   main-internet-rabota    129\n",
       "18      main-archive-news    126\n",
       "19   main-rabota-internet    124\n",
       "20  main-internet-archive    123\n",
       "21     main-archive-bonus    117\n",
       "22    main-internet-bonus    115\n",
       "23  main-tariffs-internet    114\n",
       "24      main-news-archive    113\n",
       "25     main-news-internet    109\n",
       "26   main-archive-tariffs    104\n",
       "27   main-tariffs-archive    103\n",
       "28     main-internet-news    103\n",
       "29       main-rabota-main     94"
      ]
     },
     "execution_count": 14,
     "metadata": {},
     "output_type": "execute_result"
    }
   ],
   "source": [
    "save_csv(df_routes, 'df.csv')"
   ]
  },
  {
   "cell_type": "code",
   "execution_count": 15,
   "metadata": {
    "tags": []
   },
   "outputs": [
    {
     "name": "stdout",
     "output_type": "stream",
     "text": [
      "Dataframes match!\n"
     ]
    }
   ],
   "source": [
    "assert compare_csv('df.csv', 'sql.csv')[0]"
   ]
  },
  {
   "cell_type": "markdown",
   "metadata": {},
   "source": [
    "## Alternative solution\n",
    "\n",
    "Let's assume that clicks are ordered by fuller timestamps with ms, ns etc.\n",
    "\n",
    "Since order by is not stable and timestamp sorting messes up the order, we need to add an id index column."
   ]
  },
  {
   "cell_type": "code",
   "execution_count": 16,
   "metadata": {
    "tags": []
   },
   "outputs": [
    {
     "name": "stdout",
     "output_type": "stream",
     "text": [
      "24583\n"
     ]
    }
   ],
   "source": [
    "df = pd.read_csv('clickstream.csv', sep='\\t')\n",
    "print((df.sort_values(['timestamp']).index != df.index).sum()) ## unstable sort\n",
    "\n",
    "df['id'] = df.index\n",
    "df.to_csv('clickstream1.csv', sep='\\t', index=False)"
   ]
  },
  {
   "cell_type": "code",
   "execution_count": 17,
   "metadata": {},
   "outputs": [
    {
     "name": "stdout",
     "output_type": "stream",
     "text": [
      "Deleted /data/clickstream1.csv\n",
      "Found 5 items\n",
      "-rw-r--r--   1 root   supergroup   32241574 2023-09-24 20:38 /data/clickstream.csv\n",
      "-rw-r--r--   1 jovyan supergroup   39130467 2024-03-04 18:41 /data/clickstream1.csv\n",
      "-rw-r--r--   1 jovyan supergroup     321538 2024-03-04 18:37 /data/clickstream10000.csv\n",
      "-rw-r--r--   1 jovyan supergroup        499 2024-03-05 18:23 /data/clickstream_test.csv\n",
      "drwxr-xr-x   - root   supergroup          0 2023-09-24 20:38 /data/transactions\n"
     ]
    }
   ],
   "source": [
    "! hadoop fs -rm /data/clickstream1.csv\n",
    "! hadoop fs -copyFromLocal clickstream1.csv /data\n",
    "! hadoop fs -ls /data"
   ]
  },
  {
   "cell_type": "code",
   "execution_count": 18,
   "metadata": {
    "tags": []
   },
   "outputs": [
    {
     "data": {
      "text/html": [
       "<div>\n",
       "<style scoped>\n",
       "    .dataframe tbody tr th:only-of-type {\n",
       "        vertical-align: middle;\n",
       "    }\n",
       "\n",
       "    .dataframe tbody tr th {\n",
       "        vertical-align: top;\n",
       "    }\n",
       "\n",
       "    .dataframe thead th {\n",
       "        text-align: right;\n",
       "    }\n",
       "</style>\n",
       "<table border=\"1\" class=\"dataframe\">\n",
       "  <thead>\n",
       "    <tr style=\"text-align: right;\">\n",
       "      <th></th>\n",
       "      <th>user_id</th>\n",
       "      <th>session_id</th>\n",
       "      <th>event_type</th>\n",
       "      <th>event_page</th>\n",
       "      <th>timestamp</th>\n",
       "      <th>id</th>\n",
       "    </tr>\n",
       "  </thead>\n",
       "  <tbody>\n",
       "    <tr>\n",
       "      <th>0</th>\n",
       "      <td>562</td>\n",
       "      <td>507</td>\n",
       "      <td>page</td>\n",
       "      <td>main</td>\n",
       "      <td>1695584127</td>\n",
       "      <td>0</td>\n",
       "    </tr>\n",
       "    <tr>\n",
       "      <th>1</th>\n",
       "      <td>562</td>\n",
       "      <td>507</td>\n",
       "      <td>event</td>\n",
       "      <td>main</td>\n",
       "      <td>1695584134</td>\n",
       "      <td>1</td>\n",
       "    </tr>\n",
       "    <tr>\n",
       "      <th>2</th>\n",
       "      <td>562</td>\n",
       "      <td>507</td>\n",
       "      <td>event</td>\n",
       "      <td>main</td>\n",
       "      <td>1695584144</td>\n",
       "      <td>2</td>\n",
       "    </tr>\n",
       "    <tr>\n",
       "      <th>3</th>\n",
       "      <td>562</td>\n",
       "      <td>507</td>\n",
       "      <td>event</td>\n",
       "      <td>main</td>\n",
       "      <td>1695584147</td>\n",
       "      <td>3</td>\n",
       "    </tr>\n",
       "    <tr>\n",
       "      <th>4</th>\n",
       "      <td>562</td>\n",
       "      <td>507</td>\n",
       "      <td>wNaxLlerrorU</td>\n",
       "      <td>main</td>\n",
       "      <td>1695584154</td>\n",
       "      <td>4</td>\n",
       "    </tr>\n",
       "  </tbody>\n",
       "</table>\n",
       "</div>"
      ],
      "text/plain": [
       "  user_id session_id    event_type event_page   timestamp id\n",
       "0     562        507          page       main  1695584127  0\n",
       "1     562        507         event       main  1695584134  1\n",
       "2     562        507         event       main  1695584144  2\n",
       "3     562        507         event       main  1695584147  3\n",
       "4     562        507  wNaxLlerrorU       main  1695584154  4"
      ]
     },
     "execution_count": 18,
     "metadata": {},
     "output_type": "execute_result"
    }
   ],
   "source": [
    "clicks1 = se.read.csv('hdfs:/data/clickstream1.csv', sep='\\t', header=True)\n",
    "clicks1.createOrReplaceTempView('clicks1')\n",
    "clicks1.limit(5).toPandas()"
   ]
  },
  {
   "cell_type": "code",
   "execution_count": 19,
   "metadata": {
    "tags": []
   },
   "outputs": [],
   "source": [
    "sql_routes1 = se.sql(sql_join('clicks1', 'id')) # LIMIT 30 is omitted intentionally"
   ]
  },
  {
   "cell_type": "code",
   "execution_count": 20,
   "metadata": {
    "tags": []
   },
   "outputs": [
    {
     "name": "stderr",
     "output_type": "stream",
     "text": [
      "                                                                                \r"
     ]
    },
    {
     "data": {
      "text/html": [
       "<div>\n",
       "<style scoped>\n",
       "    .dataframe tbody tr th:only-of-type {\n",
       "        vertical-align: middle;\n",
       "    }\n",
       "\n",
       "    .dataframe tbody tr th {\n",
       "        vertical-align: top;\n",
       "    }\n",
       "\n",
       "    .dataframe thead th {\n",
       "        text-align: right;\n",
       "    }\n",
       "</style>\n",
       "<table border=\"1\" class=\"dataframe\">\n",
       "  <thead>\n",
       "    <tr style=\"text-align: right;\">\n",
       "      <th></th>\n",
       "      <th>route</th>\n",
       "      <th>count</th>\n",
       "    </tr>\n",
       "  </thead>\n",
       "  <tbody>\n",
       "    <tr>\n",
       "      <th>0</th>\n",
       "      <td>main</td>\n",
       "      <td>8184</td>\n",
       "    </tr>\n",
       "    <tr>\n",
       "      <th>1</th>\n",
       "      <td>main-archive</td>\n",
       "      <td>1111</td>\n",
       "    </tr>\n",
       "    <tr>\n",
       "      <th>2</th>\n",
       "      <td>main-rabota</td>\n",
       "      <td>1047</td>\n",
       "    </tr>\n",
       "    <tr>\n",
       "      <th>3</th>\n",
       "      <td>main-internet</td>\n",
       "      <td>896</td>\n",
       "    </tr>\n",
       "    <tr>\n",
       "      <th>4</th>\n",
       "      <td>main-bonus</td>\n",
       "      <td>872</td>\n",
       "    </tr>\n",
       "    <tr>\n",
       "      <th>5</th>\n",
       "      <td>main-news</td>\n",
       "      <td>769</td>\n",
       "    </tr>\n",
       "    <tr>\n",
       "      <th>6</th>\n",
       "      <td>main-tariffs</td>\n",
       "      <td>675</td>\n",
       "    </tr>\n",
       "    <tr>\n",
       "      <th>7</th>\n",
       "      <td>main-online</td>\n",
       "      <td>587</td>\n",
       "    </tr>\n",
       "    <tr>\n",
       "      <th>8</th>\n",
       "      <td>main-vklad</td>\n",
       "      <td>516</td>\n",
       "    </tr>\n",
       "    <tr>\n",
       "      <th>9</th>\n",
       "      <td>main-rabota-archive</td>\n",
       "      <td>170</td>\n",
       "    </tr>\n",
       "    <tr>\n",
       "      <th>10</th>\n",
       "      <td>main-archive-rabota</td>\n",
       "      <td>167</td>\n",
       "    </tr>\n",
       "    <tr>\n",
       "      <th>11</th>\n",
       "      <td>main-bonus-archive</td>\n",
       "      <td>143</td>\n",
       "    </tr>\n",
       "    <tr>\n",
       "      <th>12</th>\n",
       "      <td>main-rabota-bonus</td>\n",
       "      <td>139</td>\n",
       "    </tr>\n",
       "    <tr>\n",
       "      <th>13</th>\n",
       "      <td>main-news-rabota</td>\n",
       "      <td>135</td>\n",
       "    </tr>\n",
       "    <tr>\n",
       "      <th>14</th>\n",
       "      <td>main-bonus-rabota</td>\n",
       "      <td>135</td>\n",
       "    </tr>\n",
       "    <tr>\n",
       "      <th>15</th>\n",
       "      <td>main-archive-internet</td>\n",
       "      <td>133</td>\n",
       "    </tr>\n",
       "    <tr>\n",
       "      <th>16</th>\n",
       "      <td>main-rabota-news</td>\n",
       "      <td>129</td>\n",
       "    </tr>\n",
       "    <tr>\n",
       "      <th>17</th>\n",
       "      <td>main-internet-rabota</td>\n",
       "      <td>129</td>\n",
       "    </tr>\n",
       "    <tr>\n",
       "      <th>18</th>\n",
       "      <td>main-archive-news</td>\n",
       "      <td>126</td>\n",
       "    </tr>\n",
       "    <tr>\n",
       "      <th>19</th>\n",
       "      <td>main-rabota-internet</td>\n",
       "      <td>124</td>\n",
       "    </tr>\n",
       "    <tr>\n",
       "      <th>20</th>\n",
       "      <td>main-internet-archive</td>\n",
       "      <td>123</td>\n",
       "    </tr>\n",
       "    <tr>\n",
       "      <th>21</th>\n",
       "      <td>main-archive-bonus</td>\n",
       "      <td>117</td>\n",
       "    </tr>\n",
       "    <tr>\n",
       "      <th>22</th>\n",
       "      <td>main-internet-bonus</td>\n",
       "      <td>116</td>\n",
       "    </tr>\n",
       "    <tr>\n",
       "      <th>23</th>\n",
       "      <td>main-tariffs-internet</td>\n",
       "      <td>115</td>\n",
       "    </tr>\n",
       "    <tr>\n",
       "      <th>24</th>\n",
       "      <td>main-news-archive</td>\n",
       "      <td>112</td>\n",
       "    </tr>\n",
       "    <tr>\n",
       "      <th>25</th>\n",
       "      <td>main-news-internet</td>\n",
       "      <td>108</td>\n",
       "    </tr>\n",
       "    <tr>\n",
       "      <th>26</th>\n",
       "      <td>main-archive-tariffs</td>\n",
       "      <td>104</td>\n",
       "    </tr>\n",
       "    <tr>\n",
       "      <th>27</th>\n",
       "      <td>main-tariffs-archive</td>\n",
       "      <td>103</td>\n",
       "    </tr>\n",
       "    <tr>\n",
       "      <th>28</th>\n",
       "      <td>main-internet-news</td>\n",
       "      <td>103</td>\n",
       "    </tr>\n",
       "    <tr>\n",
       "      <th>29</th>\n",
       "      <td>main-rabota-main</td>\n",
       "      <td>94</td>\n",
       "    </tr>\n",
       "  </tbody>\n",
       "</table>\n",
       "</div>"
      ],
      "text/plain": [
       "                    route  count\n",
       "0                    main   8184\n",
       "1            main-archive   1111\n",
       "2             main-rabota   1047\n",
       "3           main-internet    896\n",
       "4              main-bonus    872\n",
       "5               main-news    769\n",
       "6            main-tariffs    675\n",
       "7             main-online    587\n",
       "8              main-vklad    516\n",
       "9     main-rabota-archive    170\n",
       "10    main-archive-rabota    167\n",
       "11     main-bonus-archive    143\n",
       "12      main-rabota-bonus    139\n",
       "13       main-news-rabota    135\n",
       "14      main-bonus-rabota    135\n",
       "15  main-archive-internet    133\n",
       "16       main-rabota-news    129\n",
       "17   main-internet-rabota    129\n",
       "18      main-archive-news    126\n",
       "19   main-rabota-internet    124\n",
       "20  main-internet-archive    123\n",
       "21     main-archive-bonus    117\n",
       "22    main-internet-bonus    116\n",
       "23  main-tariffs-internet    115\n",
       "24      main-news-archive    112\n",
       "25     main-news-internet    108\n",
       "26   main-archive-tariffs    104\n",
       "27   main-tariffs-archive    103\n",
       "28     main-internet-news    103\n",
       "29       main-rabota-main     94"
      ]
     },
     "execution_count": 20,
     "metadata": {},
     "output_type": "execute_result"
    }
   ],
   "source": [
    "save_csv(sql_routes1, 'sql1.csv')"
   ]
  },
  {
   "cell_type": "code",
   "execution_count": 21,
   "metadata": {
    "tags": []
   },
   "outputs": [
    {
     "data": {
      "text/html": [
       "<div>\n",
       "<style scoped>\n",
       "    .dataframe tbody tr th:only-of-type {\n",
       "        vertical-align: middle;\n",
       "    }\n",
       "\n",
       "    .dataframe tbody tr th {\n",
       "        vertical-align: top;\n",
       "    }\n",
       "\n",
       "    .dataframe thead tr th {\n",
       "        text-align: left;\n",
       "    }\n",
       "</style>\n",
       "<table border=\"1\" class=\"dataframe\">\n",
       "  <thead>\n",
       "    <tr>\n",
       "      <th></th>\n",
       "      <th colspan=\"2\" halign=\"left\">count</th>\n",
       "    </tr>\n",
       "    <tr>\n",
       "      <th></th>\n",
       "      <th>left</th>\n",
       "      <th>right</th>\n",
       "    </tr>\n",
       "  </thead>\n",
       "  <tbody>\n",
       "    <tr>\n",
       "      <th>1</th>\n",
       "      <td>1113.0</td>\n",
       "      <td>1111.0</td>\n",
       "    </tr>\n",
       "    <tr>\n",
       "      <th>3</th>\n",
       "      <td>897.0</td>\n",
       "      <td>896.0</td>\n",
       "    </tr>\n",
       "    <tr>\n",
       "      <th>4</th>\n",
       "      <td>870.0</td>\n",
       "      <td>872.0</td>\n",
       "    </tr>\n",
       "    <tr>\n",
       "      <th>6</th>\n",
       "      <td>677.0</td>\n",
       "      <td>675.0</td>\n",
       "    </tr>\n",
       "    <tr>\n",
       "      <th>8</th>\n",
       "      <td>518.0</td>\n",
       "      <td>516.0</td>\n",
       "    </tr>\n",
       "    <tr>\n",
       "      <th>15</th>\n",
       "      <td>132.0</td>\n",
       "      <td>133.0</td>\n",
       "    </tr>\n",
       "    <tr>\n",
       "      <th>16</th>\n",
       "      <td>130.0</td>\n",
       "      <td>129.0</td>\n",
       "    </tr>\n",
       "    <tr>\n",
       "      <th>22</th>\n",
       "      <td>115.0</td>\n",
       "      <td>116.0</td>\n",
       "    </tr>\n",
       "    <tr>\n",
       "      <th>23</th>\n",
       "      <td>114.0</td>\n",
       "      <td>115.0</td>\n",
       "    </tr>\n",
       "    <tr>\n",
       "      <th>24</th>\n",
       "      <td>113.0</td>\n",
       "      <td>112.0</td>\n",
       "    </tr>\n",
       "    <tr>\n",
       "      <th>25</th>\n",
       "      <td>109.0</td>\n",
       "      <td>108.0</td>\n",
       "    </tr>\n",
       "  </tbody>\n",
       "</table>\n",
       "</div>"
      ],
      "text/plain": [
       "     count        \n",
       "      left   right\n",
       "1   1113.0  1111.0\n",
       "3    897.0   896.0\n",
       "4    870.0   872.0\n",
       "6    677.0   675.0\n",
       "8    518.0   516.0\n",
       "15   132.0   133.0\n",
       "16   130.0   129.0\n",
       "22   115.0   116.0\n",
       "23   114.0   115.0\n",
       "24   113.0   112.0\n",
       "25   109.0   108.0"
      ]
     },
     "execution_count": 21,
     "metadata": {},
     "output_type": "execute_result"
    }
   ],
   "source": [
    "compare_csv('sql.csv', 'sql1.csv')[1]"
   ]
  },
  {
   "cell_type": "code",
   "execution_count": 22,
   "metadata": {
    "tags": []
   },
   "outputs": [],
   "source": [
    "# stop Spark (and YARN application)\n",
    "sc.stop()"
   ]
  },
  {
   "cell_type": "markdown",
   "metadata": {},
   "source": [
    "## Given map-reduce sequence of tasks, what would be the algorithm to convert it into Spark, can one improve it in speed?"
   ]
  },
  {
   "cell_type": "markdown",
   "metadata": {},
   "source": [
    "Below are mapper1.py (removes the header and reorders the columns) and reducer_clean.py (cleans the data, analogical to `clean` in spark)"
   ]
  },
  {
   "cell_type": "code",
   "execution_count": 23,
   "metadata": {
    "tags": []
   },
   "outputs": [
    {
     "name": "stdout",
     "output_type": "stream",
     "text": [
      "Overwriting mapper1.py\n"
     ]
    }
   ],
   "source": [
    "%%file mapper1.py\n",
    "import sys\n",
    "\n",
    "_ = sys.stdin.readline().strip() # remove the header\n",
    "\n",
    "for line in sys.stdin:\n",
    "    user_id, session_id, event_type, event_page, timestamp = line.strip().split()\n",
    "    print('\\t'.join([user_id, session_id, timestamp, event_type, event_page]))"
   ]
  },
  {
   "cell_type": "code",
   "execution_count": 24,
   "metadata": {
    "tags": []
   },
   "outputs": [
    {
     "name": "stdout",
     "output_type": "stream",
     "text": [
      "Overwriting reducer_clean.py\n"
     ]
    }
   ],
   "source": [
    "%%file reducer_clean.py\n",
    "import sys\n",
    "\n",
    "\n",
    "prev_session = (None, None)\n",
    "prev_page = None\n",
    "err = False\n",
    "\n",
    "for line in sys.stdin:\n",
    "    user_id, session_id, timestamp, event_type, event_page = line.strip().split()\n",
    "    \n",
    "    if prev_session != (user_id, session_id):\n",
    "        prev_page = None\n",
    "        err = False\n",
    "    prev_session = (user_id, session_id)\n",
    "    \n",
    "    if not err and 'error' in event_type:\n",
    "        err = True\n",
    "    \n",
    "    if not err:\n",
    "        if prev_page is None or prev_page != event_page:\n",
    "            print('\\t'.join([user_id, session_id, timestamp, event_page]))\n",
    "        prev_page = event_page"
   ]
  },
  {
   "cell_type": "markdown",
   "metadata": {},
   "source": [
    "Testing map-reduce on small data slice"
   ]
  },
  {
   "cell_type": "code",
   "execution_count": 25,
   "metadata": {
    "tags": []
   },
   "outputs": [],
   "source": [
    "df = pd.read_csv('clickstream.csv', sep='\\t')\n",
    "df.iloc[pd.np.r_[33:47]].to_csv('clickstream_test.csv', sep='\\t', index=False)"
   ]
  },
  {
   "cell_type": "code",
   "execution_count": 26,
   "metadata": {
    "tags": []
   },
   "outputs": [
    {
     "data": {
      "text/html": [
       "<div>\n",
       "<style scoped>\n",
       "    .dataframe tbody tr th:only-of-type {\n",
       "        vertical-align: middle;\n",
       "    }\n",
       "\n",
       "    .dataframe tbody tr th {\n",
       "        vertical-align: top;\n",
       "    }\n",
       "\n",
       "    .dataframe thead th {\n",
       "        text-align: right;\n",
       "    }\n",
       "</style>\n",
       "<table border=\"1\" class=\"dataframe\">\n",
       "  <thead>\n",
       "    <tr style=\"text-align: right;\">\n",
       "      <th></th>\n",
       "      <th>user_id</th>\n",
       "      <th>session_id</th>\n",
       "      <th>event_type</th>\n",
       "      <th>event_page</th>\n",
       "      <th>timestamp</th>\n",
       "    </tr>\n",
       "  </thead>\n",
       "  <tbody>\n",
       "    <tr>\n",
       "      <th>33</th>\n",
       "      <td>3539</td>\n",
       "      <td>849</td>\n",
       "      <td>page</td>\n",
       "      <td>bonus</td>\n",
       "      <td>1695584324</td>\n",
       "    </tr>\n",
       "    <tr>\n",
       "      <th>34</th>\n",
       "      <td>3539</td>\n",
       "      <td>849</td>\n",
       "      <td>event</td>\n",
       "      <td>bonus</td>\n",
       "      <td>1695584324</td>\n",
       "    </tr>\n",
       "    <tr>\n",
       "      <th>35</th>\n",
       "      <td>3539</td>\n",
       "      <td>849</td>\n",
       "      <td>event</td>\n",
       "      <td>bonus</td>\n",
       "      <td>1695584333</td>\n",
       "    </tr>\n",
       "    <tr>\n",
       "      <th>36</th>\n",
       "      <td>461</td>\n",
       "      <td>174</td>\n",
       "      <td>page</td>\n",
       "      <td>main</td>\n",
       "      <td>1695584343</td>\n",
       "    </tr>\n",
       "    <tr>\n",
       "      <th>37</th>\n",
       "      <td>4567</td>\n",
       "      <td>514</td>\n",
       "      <td>page</td>\n",
       "      <td>main</td>\n",
       "      <td>1695584345</td>\n",
       "    </tr>\n",
       "    <tr>\n",
       "      <th>38</th>\n",
       "      <td>3539</td>\n",
       "      <td>849</td>\n",
       "      <td>event</td>\n",
       "      <td>bonus</td>\n",
       "      <td>1695584348</td>\n",
       "    </tr>\n",
       "    <tr>\n",
       "      <th>39</th>\n",
       "      <td>4567</td>\n",
       "      <td>514</td>\n",
       "      <td>mAXExoCXerror</td>\n",
       "      <td>main</td>\n",
       "      <td>1695584351</td>\n",
       "    </tr>\n",
       "    <tr>\n",
       "      <th>40</th>\n",
       "      <td>4567</td>\n",
       "      <td>514</td>\n",
       "      <td>event</td>\n",
       "      <td>main</td>\n",
       "      <td>1695584357</td>\n",
       "    </tr>\n",
       "    <tr>\n",
       "      <th>41</th>\n",
       "      <td>3539</td>\n",
       "      <td>849</td>\n",
       "      <td>event</td>\n",
       "      <td>bonus</td>\n",
       "      <td>1695584365</td>\n",
       "    </tr>\n",
       "    <tr>\n",
       "      <th>42</th>\n",
       "      <td>4567</td>\n",
       "      <td>514</td>\n",
       "      <td>page</td>\n",
       "      <td>archive</td>\n",
       "      <td>1695584373</td>\n",
       "    </tr>\n",
       "    <tr>\n",
       "      <th>43</th>\n",
       "      <td>461</td>\n",
       "      <td>174</td>\n",
       "      <td>event</td>\n",
       "      <td>main</td>\n",
       "      <td>1695584376</td>\n",
       "    </tr>\n",
       "    <tr>\n",
       "      <th>44</th>\n",
       "      <td>461</td>\n",
       "      <td>174</td>\n",
       "      <td>event</td>\n",
       "      <td>main</td>\n",
       "      <td>1695584376</td>\n",
       "    </tr>\n",
       "    <tr>\n",
       "      <th>45</th>\n",
       "      <td>4567</td>\n",
       "      <td>514</td>\n",
       "      <td>page</td>\n",
       "      <td>internet</td>\n",
       "      <td>1695584381</td>\n",
       "    </tr>\n",
       "    <tr>\n",
       "      <th>46</th>\n",
       "      <td>3539</td>\n",
       "      <td>849</td>\n",
       "      <td>page</td>\n",
       "      <td>tariffs</td>\n",
       "      <td>1695584389</td>\n",
       "    </tr>\n",
       "  </tbody>\n",
       "</table>\n",
       "</div>"
      ],
      "text/plain": [
       "    user_id  session_id     event_type event_page   timestamp\n",
       "33     3539         849           page      bonus  1695584324\n",
       "34     3539         849          event      bonus  1695584324\n",
       "35     3539         849          event      bonus  1695584333\n",
       "36      461         174           page       main  1695584343\n",
       "37     4567         514           page       main  1695584345\n",
       "38     3539         849          event      bonus  1695584348\n",
       "39     4567         514  mAXExoCXerror       main  1695584351\n",
       "40     4567         514          event       main  1695584357\n",
       "41     3539         849          event      bonus  1695584365\n",
       "42     4567         514           page    archive  1695584373\n",
       "43      461         174          event       main  1695584376\n",
       "44      461         174          event       main  1695584376\n",
       "45     4567         514           page   internet  1695584381\n",
       "46     3539         849           page    tariffs  1695584389"
      ]
     },
     "execution_count": 26,
     "metadata": {},
     "output_type": "execute_result"
    }
   ],
   "source": [
    "df.iloc[pd.np.r_[33:47]]"
   ]
  },
  {
   "cell_type": "code",
   "execution_count": 27,
   "metadata": {
    "tags": []
   },
   "outputs": [
    {
     "name": "stdout",
     "output_type": "stream",
     "text": [
      "461\t174\t1695584343\tpage\tmain\n",
      "461\t174\t1695584376\tevent\tmain\n",
      "461\t174\t1695584376\tevent\tmain\n",
      "3539\t849\t1695584324\tevent\tbonus\n",
      "3539\t849\t1695584324\tpage\tbonus\n",
      "3539\t849\t1695584333\tevent\tbonus\n",
      "3539\t849\t1695584348\tevent\tbonus\n",
      "3539\t849\t1695584365\tevent\tbonus\n",
      "3539\t849\t1695584389\tpage\ttariffs\n",
      "4567\t514\t1695584345\tpage\tmain\n",
      "4567\t514\t1695584351\tmAXExoCXerror\tmain\n",
      "4567\t514\t1695584357\tevent\tmain\n",
      "4567\t514\t1695584373\tpage\tarchive\n",
      "4567\t514\t1695584381\tpage\tinternet\n"
     ]
    }
   ],
   "source": [
    "! python mapper1.py < clickstream_test.csv | sort -k1,1n -k2,2n -k5,5n | grep \"\\S\" > test.csv\n",
    "! cat test.csv"
   ]
  },
  {
   "cell_type": "code",
   "execution_count": 28,
   "metadata": {
    "tags": []
   },
   "outputs": [
    {
     "name": "stdout",
     "output_type": "stream",
     "text": [
      "461\t174\t1695584343\tmain\n",
      "3539\t849\t1695584324\tbonus\n",
      "3539\t849\t1695584389\ttariffs\n",
      "4567\t514\t1695584345\tmain\n"
     ]
    }
   ],
   "source": [
    "! python reducer_clean.py < test.csv"
   ]
  },
  {
   "cell_type": "code",
   "execution_count": 29,
   "metadata": {
    "tags": []
   },
   "outputs": [
    {
     "name": "stdout",
     "output_type": "stream",
     "text": [
      "Overwriting reducer1.py\n"
     ]
    }
   ],
   "source": [
    "%%file reducer1.py\n",
    "import sys\n",
    "\n",
    "\n",
    "prev_session = (None, None)\n",
    "prev_page = None\n",
    "err = False\n",
    "route = []\n",
    "\n",
    "for line in sys.stdin:\n",
    "    user_id, session_id, timestamp, event_type, event_page = line.strip().split()\n",
    "    \n",
    "    if prev_session != (user_id, session_id):\n",
    "        prev_page = None\n",
    "        err = False\n",
    "        if len(route) > 0:\n",
    "            print('-'.join(route))\n",
    "        route = []\n",
    "    prev_session = (user_id, session_id)\n",
    "    \n",
    "    if not err and 'error' in event_type:\n",
    "        err = True\n",
    "    \n",
    "    if not err:\n",
    "        if prev_page is None or prev_page != event_page:\n",
    "            route.append(event_page)\n",
    "        prev_page = event_page\n",
    "\n",
    "if len(route) > 0:\n",
    "    print('-'.join(route))"
   ]
  },
  {
   "cell_type": "code",
   "execution_count": 30,
   "metadata": {
    "tags": []
   },
   "outputs": [
    {
     "name": "stdout",
     "output_type": "stream",
     "text": [
      "main\n",
      "bonus-tariffs\n",
      "main\n"
     ]
    }
   ],
   "source": [
    "! python reducer1.py < test.csv > clean.csv\n",
    "! cat clean.csv"
   ]
  },
  {
   "cell_type": "markdown",
   "metadata": {},
   "source": [
    "Works as expected!\n",
    "\n",
    "We need to do another map-reduce to get the desired result."
   ]
  },
  {
   "cell_type": "code",
   "execution_count": 31,
   "metadata": {
    "tags": []
   },
   "outputs": [
    {
     "name": "stdout",
     "output_type": "stream",
     "text": [
      "Overwriting mapper2.py\n"
     ]
    }
   ],
   "source": [
    "%%file mapper2.py\n",
    "import sys\n",
    "\n",
    "\n",
    "for line in sys.stdin:\n",
    "    print(line)"
   ]
  },
  {
   "cell_type": "code",
   "execution_count": 32,
   "metadata": {
    "tags": []
   },
   "outputs": [
    {
     "name": "stdout",
     "output_type": "stream",
     "text": [
      "Overwriting reducer2.py\n"
     ]
    }
   ],
   "source": [
    "%%file reducer2.py\n",
    "import sys\n",
    "\n",
    "\n",
    "prev_route = None\n",
    "count = 0\n",
    "\n",
    "for line in sys.stdin:\n",
    "    route = line.strip()\n",
    "    \n",
    "    if prev_route is not None and prev_route != route:\n",
    "        print('\\t'.join([prev_route, str(count)]))\n",
    "        count = 0\n",
    "    \n",
    "    count += 1\n",
    "    prev_route = route\n",
    "\n",
    "print('\\t'.join([route, str(count)]))"
   ]
  },
  {
   "cell_type": "code",
   "execution_count": 33,
   "metadata": {},
   "outputs": [
    {
     "name": "stdout",
     "output_type": "stream",
     "text": [
      "bonus-tariffs\t1\n",
      "main\t2\n"
     ]
    }
   ],
   "source": [
    "! cat clean.csv | sort -k1,1n | python reducer2.py"
   ]
  },
  {
   "cell_type": "markdown",
   "metadata": {},
   "source": [
    "Running in hadoop"
   ]
  },
  {
   "cell_type": "code",
   "execution_count": 34,
   "metadata": {
    "tags": []
   },
   "outputs": [
    {
     "name": "stdout",
     "output_type": "stream",
     "text": [
      "Deleted /routes\n",
      "2024-03-04 18:41:34,141 WARN streaming.StreamJob: -file option is deprecated, please use generic option -files instead.\n",
      "packageJobJar: [mapper1.py, reducer1.py] [/usr/local/hadoop/share/hadoop/tools/lib/hadoop-streaming-3.3.4.jar] /tmp/streamjob1288169692454003578.jar tmpDir=null\n",
      "2024-03-04 18:41:34,837 INFO client.DefaultNoHARMFailoverProxyProvider: Connecting to ResourceManager at /0.0.0.0:8032\n",
      "2024-03-04 18:41:34,987 INFO client.DefaultNoHARMFailoverProxyProvider: Connecting to ResourceManager at /0.0.0.0:8032\n",
      "2024-03-04 18:41:35,204 INFO mapreduce.JobResourceUploader: Disabling Erasure Coding for path: /tmp/hadoop-yarn/staging/jovyan/.staging/job_1709671001671_0018\n",
      "2024-03-04 18:41:35,497 INFO mapred.FileInputFormat: Total input files to process : 1\n",
      "2024-03-04 18:41:35,511 INFO net.NetworkTopology: Adding a new node: /default-rack/127.0.0.1:9866\n",
      "2024-03-04 18:41:35,559 INFO mapreduce.JobSubmitter: number of splits:2\n",
      "2024-03-04 18:41:35,685 INFO mapreduce.JobSubmitter: Submitting tokens for job: job_1709671001671_0018\n",
      "2024-03-04 18:41:35,685 INFO mapreduce.JobSubmitter: Executing with tokens: []\n",
      "2024-03-04 18:41:35,838 INFO conf.Configuration: resource-types.xml not found\n",
      "2024-03-04 18:41:35,838 INFO resource.ResourceUtils: Unable to find 'resource-types.xml'.\n",
      "2024-03-04 18:41:35,897 INFO impl.YarnClientImpl: Submitted application application_1709671001671_0018\n",
      "2024-03-04 18:41:35,932 INFO mapreduce.Job: The url to track the job: http://52b78a729517:8088/proxy/application_1709671001671_0018/\n",
      "2024-03-04 18:41:35,934 INFO mapreduce.Job: Running job: job_1709671001671_0018\n",
      "2024-03-04 18:41:41,001 INFO mapreduce.Job: Job job_1709671001671_0018 running in uber mode : false\n",
      "2024-03-04 18:41:41,003 INFO mapreduce.Job:  map 0% reduce 0%\n",
      "2024-03-04 18:41:48,066 INFO mapreduce.Job:  map 50% reduce 0%\n",
      "2024-03-04 18:41:49,072 INFO mapreduce.Job:  map 100% reduce 0%\n",
      "2024-03-04 18:41:55,101 INFO mapreduce.Job:  map 100% reduce 100%\n",
      "2024-03-04 18:41:55,109 INFO mapreduce.Job: Job job_1709671001671_0018 completed successfully\n",
      "2024-03-04 18:41:55,189 INFO mapreduce.Job: Counters: 55\n",
      "\tFile System Counters\n",
      "\t\tFILE: Number of bytes read=34241496\n",
      "\t\tFILE: Number of bytes written=69324275\n",
      "\t\tFILE: Number of read operations=0\n",
      "\t\tFILE: Number of large read operations=0\n",
      "\t\tFILE: Number of write operations=0\n",
      "\t\tHDFS: Number of bytes read=32242831\n",
      "\t\tHDFS: Number of bytes written=1996996\n",
      "\t\tHDFS: Number of read operations=11\n",
      "\t\tHDFS: Number of large read operations=0\n",
      "\t\tHDFS: Number of write operations=2\n",
      "\t\tHDFS: Number of bytes read erasure-coded=0\n",
      "\tJob Counters \n",
      "\t\tLaunched map tasks=2\n",
      "\t\tLaunched reduce tasks=1\n",
      "\t\tData-local map tasks=1\n",
      "\t\tRack-local map tasks=1\n",
      "\t\tTotal time spent by all maps in occupied slots (ms)=5040640\n",
      "\t\tTotal time spent by all reduces in occupied slots (ms)=3638272\n",
      "\t\tTotal time spent by all map tasks (ms)=9845\n",
      "\t\tTotal time spent by all reduce tasks (ms)=3553\n",
      "\t\tTotal vcore-milliseconds taken by all map tasks=9845\n",
      "\t\tTotal vcore-milliseconds taken by all reduce tasks=3553\n",
      "\t\tTotal megabyte-milliseconds taken by all map tasks=5040640\n",
      "\t\tTotal megabyte-milliseconds taken by all reduce tasks=3638272\n",
      "\tMap-Reduce Framework\n",
      "\t\tMap input records=1000001\n",
      "\t\tMap output records=999999\n",
      "\t\tMap output bytes=32241492\n",
      "\t\tMap output materialized bytes=34241502\n",
      "\t\tInput split bytes=188\n",
      "\t\tCombine input records=0\n",
      "\t\tCombine output records=0\n",
      "\t\tReduce input groups=997938\n",
      "\t\tReduce shuffle bytes=34241502\n",
      "\t\tReduce input records=999999\n",
      "\t\tReduce output records=48523\n",
      "\t\tSpilled Records=1999998\n",
      "\t\tShuffled Maps =2\n",
      "\t\tFailed Shuffles=0\n",
      "\t\tMerged Map outputs=2\n",
      "\t\tGC time elapsed (ms)=243\n",
      "\t\tCPU time spent (ms)=12190\n",
      "\t\tPhysical memory (bytes) snapshot=984047616\n",
      "\t\tVirtual memory (bytes) snapshot=6792830976\n",
      "\t\tTotal committed heap usage (bytes)=957874176\n",
      "\t\tPeak Map Physical memory (bytes)=358096896\n",
      "\t\tPeak Map Virtual memory (bytes)=2114875392\n",
      "\t\tPeak Reduce Physical memory (bytes)=274395136\n",
      "\t\tPeak Reduce Virtual memory (bytes)=2564292608\n",
      "\tShuffle Errors\n",
      "\t\tBAD_ID=0\n",
      "\t\tCONNECTION=0\n",
      "\t\tIO_ERROR=0\n",
      "\t\tWRONG_LENGTH=0\n",
      "\t\tWRONG_MAP=0\n",
      "\t\tWRONG_REDUCE=0\n",
      "\tFile Input Format Counters \n",
      "\t\tBytes Read=32242643\n",
      "\tFile Output Format Counters \n",
      "\t\tBytes Written=1996996\n",
      "2024-03-04 18:41:55,189 INFO streaming.StreamJob: Output directory: /routes\n"
     ]
    }
   ],
   "source": [
    "! hadoop fs -rm -r /routes\n",
    "\n",
    "! mapred streaming \\\n",
    "  -D mapreduce.job.output.key.comparator.class=org.apache.hadoop.mapred.lib.KeyFieldBasedComparator \\\n",
    "  -D mapreduce.partition.keycomparator.options=\"-k1,1n -k2,2n -k3,3n\" \\\n",
    "  -D stream.num.map.output.key.fields=3 \\\n",
    "  -D mapreduce.partition.keypartitioner.options=-k1,3 \\\n",
    "  -input /data/clickstream.csv \\\n",
    "  -output /routes \\\n",
    "  -mapper \"/opt/conda/bin/python3.10 mapper1.py\" \\\n",
    "  -reducer \"/opt/conda/bin/python3.10 reducer1.py\" \\\n",
    "  -file mapper1.py \\\n",
    "  -file reducer1.py \\\n",
    "  -partitioner org.apache.hadoop.mapred.lib.KeyFieldBasedPartitioner"
   ]
  },
  {
   "cell_type": "code",
   "execution_count": 35,
   "metadata": {
    "tags": []
   },
   "outputs": [
    {
     "name": "stdout",
     "output_type": "stream",
     "text": [
      "archive-main-archive\t\n",
      "archive-main-archive-news-vklad-rabota\t\n",
      "bonus-main-archive-internet-news-online-internet-online-tariffs-online-archive-rabota\t\n",
      "bonus-main-bonus-archive-tariffs-archive\t\n",
      "digital-main-bonus-news\t\n",
      "internet-main-internet\t\n",
      "main\t\n",
      "main\t\n",
      "main\t\n",
      "main\t\n"
     ]
    }
   ],
   "source": [
    "%%bash\n",
    "hadoop fs -cat \"/routes/*\" | sort -k 1,1 -t $'\\t' -n | head -n 10"
   ]
  },
  {
   "cell_type": "code",
   "execution_count": 36,
   "metadata": {
    "tags": []
   },
   "outputs": [
    {
     "name": "stdout",
     "output_type": "stream",
     "text": [
      "Deleted /counts\n",
      "2024-03-04 18:41:59,791 WARN streaming.StreamJob: -file option is deprecated, please use generic option -files instead.\n",
      "packageJobJar: [mapper2.py, reducer2.py] [/usr/local/hadoop/share/hadoop/tools/lib/hadoop-streaming-3.3.4.jar] /tmp/streamjob9087059577938724142.jar tmpDir=null\n",
      "2024-03-04 18:42:00,496 INFO client.DefaultNoHARMFailoverProxyProvider: Connecting to ResourceManager at /0.0.0.0:8032\n",
      "2024-03-04 18:42:00,641 INFO client.DefaultNoHARMFailoverProxyProvider: Connecting to ResourceManager at /0.0.0.0:8032\n",
      "2024-03-04 18:42:00,834 INFO mapreduce.JobResourceUploader: Disabling Erasure Coding for path: /tmp/hadoop-yarn/staging/jovyan/.staging/job_1709671001671_0019\n",
      "2024-03-04 18:42:01,113 INFO mapred.FileInputFormat: Total input files to process : 1\n",
      "2024-03-04 18:42:01,160 INFO mapreduce.JobSubmitter: number of splits:2\n",
      "2024-03-04 18:42:01,261 INFO mapreduce.JobSubmitter: Submitting tokens for job: job_1709671001671_0019\n",
      "2024-03-04 18:42:01,261 INFO mapreduce.JobSubmitter: Executing with tokens: []\n",
      "2024-03-04 18:42:01,404 INFO conf.Configuration: resource-types.xml not found\n",
      "2024-03-04 18:42:01,404 INFO resource.ResourceUtils: Unable to find 'resource-types.xml'.\n",
      "2024-03-04 18:42:01,457 INFO impl.YarnClientImpl: Submitted application application_1709671001671_0019\n",
      "2024-03-04 18:42:01,487 INFO mapreduce.Job: The url to track the job: http://52b78a729517:8088/proxy/application_1709671001671_0019/\n",
      "2024-03-04 18:42:01,489 INFO mapreduce.Job: Running job: job_1709671001671_0019\n",
      "2024-03-04 18:42:06,545 INFO mapreduce.Job: Job job_1709671001671_0019 running in uber mode : false\n",
      "2024-03-04 18:42:06,546 INFO mapreduce.Job:  map 0% reduce 0%\n",
      "2024-03-04 18:42:10,602 INFO mapreduce.Job:  map 100% reduce 0%\n",
      "2024-03-04 18:42:15,628 INFO mapreduce.Job:  map 100% reduce 100%\n",
      "2024-03-04 18:42:15,636 INFO mapreduce.Job: Job job_1709671001671_0019 completed successfully\n",
      "2024-03-04 18:42:15,718 INFO mapreduce.Job: Counters: 54\n",
      "\tFile System Counters\n",
      "\t\tFILE: Number of bytes read=2291937\n",
      "\t\tFILE: Number of bytes written=5422238\n",
      "\t\tFILE: Number of read operations=0\n",
      "\t\tFILE: Number of large read operations=0\n",
      "\t\tFILE: Number of write operations=0\n",
      "\t\tHDFS: Number of bytes read=2001274\n",
      "\t\tHDFS: Number of bytes written=1613222\n",
      "\t\tHDFS: Number of read operations=11\n",
      "\t\tHDFS: Number of large read operations=0\n",
      "\t\tHDFS: Number of write operations=2\n",
      "\t\tHDFS: Number of bytes read erasure-coded=0\n",
      "\tJob Counters \n",
      "\t\tLaunched map tasks=2\n",
      "\t\tLaunched reduce tasks=1\n",
      "\t\tData-local map tasks=2\n",
      "\t\tTotal time spent by all maps in occupied slots (ms)=2057216\n",
      "\t\tTotal time spent by all reduces in occupied slots (ms)=2064384\n",
      "\t\tTotal time spent by all map tasks (ms)=4018\n",
      "\t\tTotal time spent by all reduce tasks (ms)=2016\n",
      "\t\tTotal vcore-milliseconds taken by all map tasks=4018\n",
      "\t\tTotal vcore-milliseconds taken by all reduce tasks=2016\n",
      "\t\tTotal megabyte-milliseconds taken by all map tasks=2057216\n",
      "\t\tTotal megabyte-milliseconds taken by all reduce tasks=2064384\n",
      "\tMap-Reduce Framework\n",
      "\t\tMap input records=48523\n",
      "\t\tMap output records=97046\n",
      "\t\tMap output bytes=2095915\n",
      "\t\tMap output materialized bytes=2291943\n",
      "\t\tInput split bytes=182\n",
      "\t\tCombine input records=0\n",
      "\t\tCombine output records=0\n",
      "\t\tReduce input groups=22763\n",
      "\t\tReduce shuffle bytes=2291943\n",
      "\t\tReduce input records=97046\n",
      "\t\tReduce output records=22763\n",
      "\t\tSpilled Records=194092\n",
      "\t\tShuffled Maps =2\n",
      "\t\tFailed Shuffles=0\n",
      "\t\tMerged Map outputs=2\n",
      "\t\tGC time elapsed (ms)=94\n",
      "\t\tCPU time spent (ms)=3390\n",
      "\t\tPhysical memory (bytes) snapshot=877522944\n",
      "\t\tVirtual memory (bytes) snapshot=6792261632\n",
      "\t\tTotal committed heap usage (bytes)=689438720\n",
      "\t\tPeak Map Physical memory (bytes)=329777152\n",
      "\t\tPeak Map Virtual memory (bytes)=2116096000\n",
      "\t\tPeak Reduce Physical memory (bytes)=219185152\n",
      "\t\tPeak Reduce Virtual memory (bytes)=2563178496\n",
      "\tShuffle Errors\n",
      "\t\tBAD_ID=0\n",
      "\t\tCONNECTION=0\n",
      "\t\tIO_ERROR=0\n",
      "\t\tWRONG_LENGTH=0\n",
      "\t\tWRONG_MAP=0\n",
      "\t\tWRONG_REDUCE=0\n",
      "\tFile Input Format Counters \n",
      "\t\tBytes Read=2001092\n",
      "\tFile Output Format Counters \n",
      "\t\tBytes Written=1613222\n",
      "2024-03-04 18:42:15,718 INFO streaming.StreamJob: Output directory: /counts\n"
     ]
    }
   ],
   "source": [
    "! hadoop fs -rm -r /counts\n",
    "\n",
    "! mapred streaming \\\n",
    "  -input /routes \\\n",
    "  -output /counts \\\n",
    "  -mapper \"/opt/conda/bin/python3.10 mapper2.py\" \\\n",
    "  -reducer \"/opt/conda/bin/python3.10 reducer2.py\" \\\n",
    "  -file mapper2.py \\\n",
    "  -file reducer2.py"
   ]
  },
  {
   "cell_type": "code",
   "execution_count": 37,
   "metadata": {
    "tags": []
   },
   "outputs": [
    {
     "name": "stdout",
     "output_type": "stream",
     "text": [
      "\t48523\n",
      "main\t8185\n",
      "main-archive\t1111\n",
      "main-rabota\t1046\n",
      "main-internet\t896\n",
      "main-bonus\t870\n",
      "main-news\t768\n",
      "main-tariffs\t677\n",
      "main-online\t587\n",
      "main-vklad\t516\n"
     ]
    }
   ],
   "source": [
    "%%bash\n",
    "hadoop fs -cat \"/counts/*\" | sort -k 2,2 -t $'\\t' -n -r | head -n 10"
   ]
  },
  {
   "cell_type": "markdown",
   "metadata": {},
   "source": [
    "Count are a little different (I couldn't figure out why), but route order is correct"
   ]
  },
  {
   "cell_type": "markdown",
   "metadata": {},
   "source": [
    "### So, to convert map-reduce to Spark it is necessary to follow the rules:\n",
    "1) Mapper translates to select and where (filtering) clauses;\n",
    "2) Reducer implements sorting (order by), grouping (group by) and any operations which work with multiple rows (aggregate functions).\n",
    "3) For any aggregate function that requires resorting the data, separate reducer is necessary (it's possible to do multiple map-reduce operations in one call using [hadoop-multiple-streaming](https://github.com/hyonaldo/hadoop-multiple-streaming)).\n",
    "\n",
    "In terms of speed, Spark will be generally faster since it uses internal optimization techniques (especially critical for aggregate functions) and usually makes better use of caching and parallelization."
   ]
  },
  {
   "cell_type": "markdown",
   "metadata": {
    "tags": []
   },
   "source": [
    "## Can the task be solved without joins? In which case would it be faster?\n",
    "\n",
    "Below is solution without joins."
   ]
  },
  {
   "cell_type": "code",
   "execution_count": 38,
   "metadata": {},
   "outputs": [
    {
     "name": "stderr",
     "output_type": "stream",
     "text": [
      "2024-03-04 18:42:18,076 WARN yarn.Client: Neither spark.yarn.jars nor spark.yarn.archive is set, falling back to uploading libraries under SPARK_HOME.\n"
     ]
    }
   ],
   "source": [
    "findspark.init()\n",
    "sc = pyspark.SparkContext(appName='jupyter')\n",
    "se = SparkSession(sc)"
   ]
  },
  {
   "cell_type": "code",
   "execution_count": 39,
   "metadata": {
    "tags": []
   },
   "outputs": [
    {
     "name": "stderr",
     "output_type": "stream",
     "text": [
      "                                                                                \r"
     ]
    },
    {
     "data": {
      "text/html": [
       "<div>\n",
       "<style scoped>\n",
       "    .dataframe tbody tr th:only-of-type {\n",
       "        vertical-align: middle;\n",
       "    }\n",
       "\n",
       "    .dataframe tbody tr th {\n",
       "        vertical-align: top;\n",
       "    }\n",
       "\n",
       "    .dataframe thead th {\n",
       "        text-align: right;\n",
       "    }\n",
       "</style>\n",
       "<table border=\"1\" class=\"dataframe\">\n",
       "  <thead>\n",
       "    <tr style=\"text-align: right;\">\n",
       "      <th></th>\n",
       "      <th>user_id</th>\n",
       "      <th>session_id</th>\n",
       "      <th>event_type</th>\n",
       "      <th>event_page</th>\n",
       "      <th>timestamp</th>\n",
       "    </tr>\n",
       "  </thead>\n",
       "  <tbody>\n",
       "    <tr>\n",
       "      <th>0</th>\n",
       "      <td>562</td>\n",
       "      <td>507</td>\n",
       "      <td>page</td>\n",
       "      <td>main</td>\n",
       "      <td>1695584127</td>\n",
       "    </tr>\n",
       "    <tr>\n",
       "      <th>1</th>\n",
       "      <td>562</td>\n",
       "      <td>507</td>\n",
       "      <td>event</td>\n",
       "      <td>main</td>\n",
       "      <td>1695584134</td>\n",
       "    </tr>\n",
       "    <tr>\n",
       "      <th>2</th>\n",
       "      <td>562</td>\n",
       "      <td>507</td>\n",
       "      <td>event</td>\n",
       "      <td>main</td>\n",
       "      <td>1695584144</td>\n",
       "    </tr>\n",
       "    <tr>\n",
       "      <th>3</th>\n",
       "      <td>562</td>\n",
       "      <td>507</td>\n",
       "      <td>event</td>\n",
       "      <td>main</td>\n",
       "      <td>1695584147</td>\n",
       "    </tr>\n",
       "    <tr>\n",
       "      <th>4</th>\n",
       "      <td>562</td>\n",
       "      <td>507</td>\n",
       "      <td>wNaxLlerrorU</td>\n",
       "      <td>main</td>\n",
       "      <td>1695584154</td>\n",
       "    </tr>\n",
       "  </tbody>\n",
       "</table>\n",
       "</div>"
      ],
      "text/plain": [
       "  user_id session_id    event_type event_page   timestamp\n",
       "0     562        507          page       main  1695584127\n",
       "1     562        507         event       main  1695584134\n",
       "2     562        507         event       main  1695584144\n",
       "3     562        507         event       main  1695584147\n",
       "4     562        507  wNaxLlerrorU       main  1695584154"
      ]
     },
     "execution_count": 39,
     "metadata": {},
     "output_type": "execute_result"
    }
   ],
   "source": [
    "clicks = se.read.csv('hdfs:/data/clickstream.csv', sep='\\t', header=True)\n",
    "clicks.createOrReplaceTempView('clicks')\n",
    "clicks.limit(5).toPandas()"
   ]
  },
  {
   "cell_type": "code",
   "execution_count": 40,
   "metadata": {
    "tags": []
   },
   "outputs": [],
   "source": [
    "def sql_count(table, order_by='timestamp'):\n",
    "    return '''\n",
    "            WITH min_errors AS (\n",
    "                SELECT user_id, session_id, event_page, {order_by},\n",
    "                    max(CASE WHEN INSTR(event_type, 'error') > 0 THEN 1 ELSE 0 END)\n",
    "                        OVER (PARTITION BY user_id, session_id ORDER BY {order_by}) AS err\n",
    "                FROM {table}\n",
    "            ), no_errors AS (\n",
    "                SELECT user_id, session_id, event_page, timestamp,\n",
    "                       lag(event_page, 1) OVER (PARTITION BY user_id, session_id ORDER BY timestamp) AS prev_page\n",
    "                FROM min_errors\n",
    "                WHERE err = 0\n",
    "            ), clean AS (\n",
    "                SELECT user_id, session_id, event_page, timestamp\n",
    "                FROM no_errors\n",
    "                WHERE prev_page IS NULL OR event_page != prev_page\n",
    "            )\n",
    "\n",
    "            SELECT DISTINCT user_id, session_id\n",
    "            FROM clean'''.format(table=table, order_by=order_by)\n",
    "\n",
    "def sql_max(table, order_by='timestamp'):\n",
    "    return '''\n",
    "            WITH min_errors AS (\n",
    "                SELECT user_id, session_id, event_page, {order_by},\n",
    "                    max(CASE WHEN INSTR(event_type, 'error') > 0 THEN 1 ELSE 0 END)\n",
    "                        OVER (PARTITION BY user_id, session_id ORDER BY {order_by}) AS err\n",
    "                FROM {table}\n",
    "            ), no_errors AS (\n",
    "                SELECT user_id, session_id, event_page, {order_by},\n",
    "                       lag(event_page, 1) OVER (PARTITION BY user_id, session_id ORDER BY {order_by}) AS prev_page\n",
    "                FROM min_errors\n",
    "                WHERE err = 0\n",
    "            ), clean AS (\n",
    "                SELECT user_id, session_id, event_page, {order_by}\n",
    "                FROM no_errors\n",
    "                WHERE prev_page IS NULL OR event_page != prev_page\n",
    "            ), routes AS (\n",
    "                SELECT user_id, session_id, MAX(route) AS route\n",
    "                FROM (SELECT user_id, session_id,\n",
    "                             COLLECT_LIST(event_page) OVER (PARTITION BY user_id, session_id ORDER BY {order_by}) AS route\n",
    "                      FROM clean) AS temp\n",
    "                GROUP BY user_id, session_id\n",
    "            )\n",
    "\n",
    "            SELECT CONCAT_WS('-', route) as route, COUNT(route) as count\n",
    "            FROM routes\n",
    "            GROUP BY route\n",
    "            ORDER BY count DESC, route DESC'''.format(table=table, order_by=order_by)\n",
    "\n",
    "sql_routes2 = se.sql(sql_max('clicks')) # LIMIT 30 is omitted intentionally"
   ]
  },
  {
   "cell_type": "code",
   "execution_count": 41,
   "metadata": {
    "tags": []
   },
   "outputs": [
    {
     "name": "stderr",
     "output_type": "stream",
     "text": [
      "                                                                                \r"
     ]
    },
    {
     "data": {
      "text/html": [
       "<div>\n",
       "<style scoped>\n",
       "    .dataframe tbody tr th:only-of-type {\n",
       "        vertical-align: middle;\n",
       "    }\n",
       "\n",
       "    .dataframe tbody tr th {\n",
       "        vertical-align: top;\n",
       "    }\n",
       "\n",
       "    .dataframe thead th {\n",
       "        text-align: right;\n",
       "    }\n",
       "</style>\n",
       "<table border=\"1\" class=\"dataframe\">\n",
       "  <thead>\n",
       "    <tr style=\"text-align: right;\">\n",
       "      <th></th>\n",
       "      <th>route</th>\n",
       "      <th>count</th>\n",
       "    </tr>\n",
       "  </thead>\n",
       "  <tbody>\n",
       "    <tr>\n",
       "      <th>0</th>\n",
       "      <td>main</td>\n",
       "      <td>8184</td>\n",
       "    </tr>\n",
       "    <tr>\n",
       "      <th>1</th>\n",
       "      <td>main-archive</td>\n",
       "      <td>1113</td>\n",
       "    </tr>\n",
       "    <tr>\n",
       "      <th>2</th>\n",
       "      <td>main-rabota</td>\n",
       "      <td>1047</td>\n",
       "    </tr>\n",
       "    <tr>\n",
       "      <th>3</th>\n",
       "      <td>main-internet</td>\n",
       "      <td>897</td>\n",
       "    </tr>\n",
       "    <tr>\n",
       "      <th>4</th>\n",
       "      <td>main-bonus</td>\n",
       "      <td>870</td>\n",
       "    </tr>\n",
       "    <tr>\n",
       "      <th>5</th>\n",
       "      <td>main-news</td>\n",
       "      <td>769</td>\n",
       "    </tr>\n",
       "    <tr>\n",
       "      <th>6</th>\n",
       "      <td>main-tariffs</td>\n",
       "      <td>677</td>\n",
       "    </tr>\n",
       "    <tr>\n",
       "      <th>7</th>\n",
       "      <td>main-online</td>\n",
       "      <td>587</td>\n",
       "    </tr>\n",
       "    <tr>\n",
       "      <th>8</th>\n",
       "      <td>main-vklad</td>\n",
       "      <td>518</td>\n",
       "    </tr>\n",
       "    <tr>\n",
       "      <th>9</th>\n",
       "      <td>main-rabota-archive</td>\n",
       "      <td>170</td>\n",
       "    </tr>\n",
       "    <tr>\n",
       "      <th>10</th>\n",
       "      <td>main-archive-rabota</td>\n",
       "      <td>167</td>\n",
       "    </tr>\n",
       "    <tr>\n",
       "      <th>11</th>\n",
       "      <td>main-bonus-archive</td>\n",
       "      <td>143</td>\n",
       "    </tr>\n",
       "    <tr>\n",
       "      <th>12</th>\n",
       "      <td>main-rabota-bonus</td>\n",
       "      <td>139</td>\n",
       "    </tr>\n",
       "    <tr>\n",
       "      <th>13</th>\n",
       "      <td>main-news-rabota</td>\n",
       "      <td>135</td>\n",
       "    </tr>\n",
       "    <tr>\n",
       "      <th>14</th>\n",
       "      <td>main-bonus-rabota</td>\n",
       "      <td>135</td>\n",
       "    </tr>\n",
       "    <tr>\n",
       "      <th>15</th>\n",
       "      <td>main-archive-internet</td>\n",
       "      <td>132</td>\n",
       "    </tr>\n",
       "    <tr>\n",
       "      <th>16</th>\n",
       "      <td>main-rabota-news</td>\n",
       "      <td>130</td>\n",
       "    </tr>\n",
       "    <tr>\n",
       "      <th>17</th>\n",
       "      <td>main-internet-rabota</td>\n",
       "      <td>129</td>\n",
       "    </tr>\n",
       "    <tr>\n",
       "      <th>18</th>\n",
       "      <td>main-archive-news</td>\n",
       "      <td>126</td>\n",
       "    </tr>\n",
       "    <tr>\n",
       "      <th>19</th>\n",
       "      <td>main-rabota-internet</td>\n",
       "      <td>124</td>\n",
       "    </tr>\n",
       "    <tr>\n",
       "      <th>20</th>\n",
       "      <td>main-internet-archive</td>\n",
       "      <td>123</td>\n",
       "    </tr>\n",
       "    <tr>\n",
       "      <th>21</th>\n",
       "      <td>main-archive-bonus</td>\n",
       "      <td>117</td>\n",
       "    </tr>\n",
       "    <tr>\n",
       "      <th>22</th>\n",
       "      <td>main-internet-bonus</td>\n",
       "      <td>115</td>\n",
       "    </tr>\n",
       "    <tr>\n",
       "      <th>23</th>\n",
       "      <td>main-tariffs-internet</td>\n",
       "      <td>114</td>\n",
       "    </tr>\n",
       "    <tr>\n",
       "      <th>24</th>\n",
       "      <td>main-news-archive</td>\n",
       "      <td>113</td>\n",
       "    </tr>\n",
       "    <tr>\n",
       "      <th>25</th>\n",
       "      <td>main-news-internet</td>\n",
       "      <td>109</td>\n",
       "    </tr>\n",
       "    <tr>\n",
       "      <th>26</th>\n",
       "      <td>main-archive-tariffs</td>\n",
       "      <td>104</td>\n",
       "    </tr>\n",
       "    <tr>\n",
       "      <th>27</th>\n",
       "      <td>main-tariffs-archive</td>\n",
       "      <td>103</td>\n",
       "    </tr>\n",
       "    <tr>\n",
       "      <th>28</th>\n",
       "      <td>main-internet-news</td>\n",
       "      <td>103</td>\n",
       "    </tr>\n",
       "    <tr>\n",
       "      <th>29</th>\n",
       "      <td>main-rabota-main</td>\n",
       "      <td>94</td>\n",
       "    </tr>\n",
       "  </tbody>\n",
       "</table>\n",
       "</div>"
      ],
      "text/plain": [
       "                    route  count\n",
       "0                    main   8184\n",
       "1            main-archive   1113\n",
       "2             main-rabota   1047\n",
       "3           main-internet    897\n",
       "4              main-bonus    870\n",
       "5               main-news    769\n",
       "6            main-tariffs    677\n",
       "7             main-online    587\n",
       "8              main-vklad    518\n",
       "9     main-rabota-archive    170\n",
       "10    main-archive-rabota    167\n",
       "11     main-bonus-archive    143\n",
       "12      main-rabota-bonus    139\n",
       "13       main-news-rabota    135\n",
       "14      main-bonus-rabota    135\n",
       "15  main-archive-internet    132\n",
       "16       main-rabota-news    130\n",
       "17   main-internet-rabota    129\n",
       "18      main-archive-news    126\n",
       "19   main-rabota-internet    124\n",
       "20  main-internet-archive    123\n",
       "21     main-archive-bonus    117\n",
       "22    main-internet-bonus    115\n",
       "23  main-tariffs-internet    114\n",
       "24      main-news-archive    113\n",
       "25     main-news-internet    109\n",
       "26   main-archive-tariffs    104\n",
       "27   main-tariffs-archive    103\n",
       "28     main-internet-news    103\n",
       "29       main-rabota-main     94"
      ]
     },
     "execution_count": 41,
     "metadata": {},
     "output_type": "execute_result"
    }
   ],
   "source": [
    "save_csv(sql_routes2, 'sql2.csv')"
   ]
  },
  {
   "cell_type": "code",
   "execution_count": 42,
   "metadata": {
    "tags": []
   },
   "outputs": [
    {
     "name": "stdout",
     "output_type": "stream",
     "text": [
      "Dataframes match!\n"
     ]
    },
    {
     "data": {
      "text/plain": [
       "(True, None)"
      ]
     },
     "execution_count": 42,
     "metadata": {},
     "output_type": "execute_result"
    }
   ],
   "source": [
    "compare_csv('sql.csv', 'sql2.csv')"
   ]
  },
  {
   "cell_type": "markdown",
   "metadata": {},
   "source": [
    "This solution will be faster the smaller is the number of user session (SELECT DISTINCT user_id, session_id).\n",
    "\n",
    "In our case, there are 48522 distinct user sessions and aggregate (max) solution is actually faster than join solution."
   ]
  },
  {
   "cell_type": "code",
   "execution_count": 43,
   "metadata": {
    "tags": []
   },
   "outputs": [
    {
     "name": "stderr",
     "output_type": "stream",
     "text": [
      "                                                                                \r"
     ]
    },
    {
     "data": {
      "text/plain": [
       "48522"
      ]
     },
     "execution_count": 43,
     "metadata": {},
     "output_type": "execute_result"
    }
   ],
   "source": [
    "se.sql(sql_count('clicks')).count()"
   ]
  },
  {
   "cell_type": "code",
   "execution_count": 44,
   "metadata": {},
   "outputs": [
    {
     "name": "stderr",
     "output_type": "stream",
     "text": [
      "[Stage 19:===================================================>    (12 + 1) / 13]\r"
     ]
    },
    {
     "name": "stdout",
     "output_type": "stream",
     "text": [
      "CPU times: user 13.3 ms, sys: 0 ns, total: 13.3 ms\n",
      "Wall time: 4.04 s\n"
     ]
    },
    {
     "name": "stderr",
     "output_type": "stream",
     "text": [
      "                                                                                \r"
     ]
    }
   ],
   "source": [
    "%%time\n",
    "_ = se.sql(sql_join('clicks')).take(30)"
   ]
  },
  {
   "cell_type": "code",
   "execution_count": 45,
   "metadata": {
    "tags": []
   },
   "outputs": [
    {
     "name": "stderr",
     "output_type": "stream",
     "text": [
      "[Stage 25:========================================>               (10 + 2) / 14]\r"
     ]
    },
    {
     "name": "stdout",
     "output_type": "stream",
     "text": [
      "CPU times: user 1 ms, sys: 9.25 ms, total: 10.3 ms\n",
      "Wall time: 2.89 s\n"
     ]
    },
    {
     "name": "stderr",
     "output_type": "stream",
     "text": [
      "                                                                                \r"
     ]
    }
   ],
   "source": [
    "%%time\n",
    "_ = sql_routes2.take(30)"
   ]
  },
  {
   "cell_type": "markdown",
   "metadata": {
    "tags": []
   },
   "source": [
    "If we take only 10000 first rows from the clickstream, there are 521 distinct user session.\n",
    "\n",
    "Join solution becomes almost twice as fast."
   ]
  },
  {
   "cell_type": "code",
   "execution_count": 46,
   "metadata": {
    "tags": []
   },
   "outputs": [],
   "source": [
    "df = pd.read_csv('clickstream.csv', sep='\\t')\n",
    "df[:10000].to_csv('clickstream10000.csv', sep='\\t', index=False)"
   ]
  },
  {
   "cell_type": "code",
   "execution_count": 47,
   "metadata": {
    "tags": []
   },
   "outputs": [
    {
     "name": "stdout",
     "output_type": "stream",
     "text": [
      "Deleted /data/clickstream10000.csv\n",
      "Found 5 items\n",
      "-rw-r--r--   1 root   supergroup   32241574 2023-09-24 20:38 /data/clickstream.csv\n",
      "-rw-r--r--   1 jovyan supergroup   39130467 2024-03-04 18:41 /data/clickstream1.csv\n",
      "-rw-r--r--   1 jovyan supergroup     321538 2024-03-04 18:42 /data/clickstream10000.csv\n",
      "-rw-r--r--   1 jovyan supergroup        499 2024-03-05 18:23 /data/clickstream_test.csv\n",
      "drwxr-xr-x   - root   supergroup          0 2023-09-24 20:38 /data/transactions\n"
     ]
    }
   ],
   "source": [
    "! hadoop fs -rm /data/clickstream10000.csv\n",
    "! hadoop fs -copyFromLocal clickstream10000.csv /data\n",
    "! hadoop fs -ls /data"
   ]
  },
  {
   "cell_type": "code",
   "execution_count": 48,
   "metadata": {
    "tags": []
   },
   "outputs": [
    {
     "data": {
      "text/html": [
       "<div>\n",
       "<style scoped>\n",
       "    .dataframe tbody tr th:only-of-type {\n",
       "        vertical-align: middle;\n",
       "    }\n",
       "\n",
       "    .dataframe tbody tr th {\n",
       "        vertical-align: top;\n",
       "    }\n",
       "\n",
       "    .dataframe thead th {\n",
       "        text-align: right;\n",
       "    }\n",
       "</style>\n",
       "<table border=\"1\" class=\"dataframe\">\n",
       "  <thead>\n",
       "    <tr style=\"text-align: right;\">\n",
       "      <th></th>\n",
       "      <th>user_id</th>\n",
       "      <th>session_id</th>\n",
       "      <th>event_type</th>\n",
       "      <th>event_page</th>\n",
       "      <th>timestamp</th>\n",
       "    </tr>\n",
       "  </thead>\n",
       "  <tbody>\n",
       "    <tr>\n",
       "      <th>0</th>\n",
       "      <td>562</td>\n",
       "      <td>507</td>\n",
       "      <td>page</td>\n",
       "      <td>main</td>\n",
       "      <td>1695584127</td>\n",
       "    </tr>\n",
       "    <tr>\n",
       "      <th>1</th>\n",
       "      <td>562</td>\n",
       "      <td>507</td>\n",
       "      <td>event</td>\n",
       "      <td>main</td>\n",
       "      <td>1695584134</td>\n",
       "    </tr>\n",
       "    <tr>\n",
       "      <th>2</th>\n",
       "      <td>562</td>\n",
       "      <td>507</td>\n",
       "      <td>event</td>\n",
       "      <td>main</td>\n",
       "      <td>1695584144</td>\n",
       "    </tr>\n",
       "    <tr>\n",
       "      <th>3</th>\n",
       "      <td>562</td>\n",
       "      <td>507</td>\n",
       "      <td>event</td>\n",
       "      <td>main</td>\n",
       "      <td>1695584147</td>\n",
       "    </tr>\n",
       "    <tr>\n",
       "      <th>4</th>\n",
       "      <td>562</td>\n",
       "      <td>507</td>\n",
       "      <td>wNaxLlerrorU</td>\n",
       "      <td>main</td>\n",
       "      <td>1695584154</td>\n",
       "    </tr>\n",
       "  </tbody>\n",
       "</table>\n",
       "</div>"
      ],
      "text/plain": [
       "  user_id session_id    event_type event_page   timestamp\n",
       "0     562        507          page       main  1695584127\n",
       "1     562        507         event       main  1695584134\n",
       "2     562        507         event       main  1695584144\n",
       "3     562        507         event       main  1695584147\n",
       "4     562        507  wNaxLlerrorU       main  1695584154"
      ]
     },
     "execution_count": 48,
     "metadata": {},
     "output_type": "execute_result"
    }
   ],
   "source": [
    "clicks10000 = se.read.csv('hdfs:/data/clickstream10000.csv', sep='\\t', header=True)\n",
    "clicks10000.createOrReplaceTempView('clicks10000')\n",
    "clicks10000.limit(5).toPandas()"
   ]
  },
  {
   "cell_type": "code",
   "execution_count": 49,
   "metadata": {
    "tags": []
   },
   "outputs": [
    {
     "data": {
      "text/plain": [
       "10000"
      ]
     },
     "execution_count": 49,
     "metadata": {},
     "output_type": "execute_result"
    }
   ],
   "source": [
    "clicks10000.count()"
   ]
  },
  {
   "cell_type": "code",
   "execution_count": 50,
   "metadata": {
    "tags": []
   },
   "outputs": [
    {
     "data": {
      "text/plain": [
       "521"
      ]
     },
     "execution_count": 50,
     "metadata": {},
     "output_type": "execute_result"
    }
   ],
   "source": [
    "se.sql(sql_count('clicks10000')).count()"
   ]
  },
  {
   "cell_type": "code",
   "execution_count": 51,
   "metadata": {
    "tags": []
   },
   "outputs": [
    {
     "name": "stdout",
     "output_type": "stream",
     "text": [
      "CPU times: user 0 ns, sys: 4.98 ms, total: 4.98 ms\n",
      "Wall time: 684 ms\n"
     ]
    }
   ],
   "source": [
    "%%time\n",
    "_ = se.sql(sql_join('clicks10000')).take(30) # LIMIT 30 is omitted intentionally"
   ]
  },
  {
   "cell_type": "code",
   "execution_count": 52,
   "metadata": {
    "tags": []
   },
   "outputs": [
    {
     "name": "stdout",
     "output_type": "stream",
     "text": [
      "CPU times: user 0 ns, sys: 4.91 ms, total: 4.91 ms\n",
      "Wall time: 339 ms\n"
     ]
    }
   ],
   "source": [
    "%%time\n",
    "_ = se.sql(sql_max('clicks10000')).take(30) # LIMIT 30 is omitted intentionally"
   ]
  },
  {
   "cell_type": "code",
   "execution_count": 53,
   "metadata": {
    "tags": []
   },
   "outputs": [],
   "source": [
    "# stop Spark (and YARN application)\n",
    "sc.stop()"
   ]
  }
 ],
 "metadata": {
  "coursera": {
   "schema_names": [
    "week-4-spark-homework"
   ]
  },
  "kernelspec": {
   "display_name": "Python 3 (ipykernel)",
   "language": "python",
   "name": "python3"
  },
  "language_info": {
   "codemirror_mode": {
    "name": "ipython",
    "version": 3
   },
   "file_extension": ".py",
   "mimetype": "text/x-python",
   "name": "python",
   "nbconvert_exporter": "python",
   "pygments_lexer": "ipython3",
   "version": "3.10.9"
  },
  "vscode": {
   "interpreter": {
    "hash": "31f2aee4e71d21fbe5cf8b01ff0e069b9275f58929596ceb00d14d90e3e16cd6"
   }
  }
 },
 "nbformat": 4,
 "nbformat_minor": 4
}
